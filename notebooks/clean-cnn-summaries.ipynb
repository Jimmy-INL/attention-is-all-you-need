{
 "cells": [
  {
   "cell_type": "markdown",
   "metadata": {},
   "source": [
    "Data obtained from:\n",
    "\n",
    "https://github.com/JafferWilson/Process-Data-of-CNN-DailyMail"
   ]
  },
  {
   "cell_type": "markdown",
   "metadata": {},
   "source": [
    "## Configs"
   ]
  },
  {
   "cell_type": "code",
   "execution_count": 12,
   "metadata": {},
   "outputs": [],
   "source": [
    "CNN_DIR = '../cnn/stories'\n",
    "DAILY_MAIL_DIR = '../dailymail/stories'\n",
    "OUTPUT_DIR = '../data/summaries'\n",
    "MAX_SUMMARY_SENTENCES = 2"
   ]
  },
  {
   "cell_type": "markdown",
   "metadata": {},
   "source": [
    "## get file paths"
   ]
  },
  {
   "cell_type": "code",
   "execution_count": 13,
   "metadata": {},
   "outputs": [],
   "source": [
    "import glob\n",
    "import os"
   ]
  },
  {
   "cell_type": "code",
   "execution_count": 14,
   "metadata": {},
   "outputs": [],
   "source": [
    "CNN_FILES = glob.glob(os.path.join(CNN_DIR, '*'))"
   ]
  },
  {
   "cell_type": "code",
   "execution_count": 15,
   "metadata": {},
   "outputs": [],
   "source": [
    "DAILY_MAIL_FILES = glob.glob(os.path.join(DAILY_MAIL_DIR, '*'))"
   ]
  },
  {
   "cell_type": "code",
   "execution_count": 16,
   "metadata": {},
   "outputs": [
    {
     "data": {
      "text/plain": [
       "(92579, 219506)"
      ]
     },
     "execution_count": 16,
     "metadata": {},
     "output_type": "execute_result"
    }
   ],
   "source": [
    "len(CNN_FILES), len(DAILY_MAIL_FILES)"
   ]
  },
  {
   "cell_type": "code",
   "execution_count": 17,
   "metadata": {},
   "outputs": [
    {
     "name": "stdout",
     "output_type": "stream",
     "text": [
      "It's official: U.S. President Barack Obama wants lawmakers to weigh in on whether to use military force in Syria.\n",
      "\n",
      "Obama sent a letter to the heads of the House and Senate on Saturday night, hours after announcing that he believes military action against Syrian targets is the right step to take over the alleged use of chemical weapons.\n",
      "\n",
      "The proposed legislation from Obama asks Congress to approve the use of military force \"to deter, disrupt, prevent and degrade the potential for future uses of chemical weapons or other weapons of mass destruction.\"\n",
      "\n",
      "It's a step that is set to turn an international crisis into a fierce domestic political battle.\n",
      "\n",
      "There are key questions looming over the debate: What did U.N. weapons inspectors find in Syria? What happens if Congress votes no? And how will the Syrian government react?\n",
      "\n",
      "In a televised address from the White House Rose Garden earlier Saturday, the president said he would take his case to Congress, not because he has to -- but because he wants to.\n",
      "\n",
      "\"While I believe I have the authority to carry out this military action without specific congressional authorization, I know that the country will be stronger if we take this course, and our actions will be even more effective,\" he said. \"We should have this debate, because the issues are too big for business as usual.\"\n",
      "\n",
      "Obama said top congressional leaders had agreed to schedule a debate when the body returns to Washington on September 9. The Senate Foreign Relations Committee will hold a hearing over the matter on Tuesday, Sen. Robert Menendez said.\n",
      "\n",
      "Transcript: Read Obama's full remarks\n",
      "\n",
      "Syrian crisis: Latest developments\n",
      "\n",
      "U.N. inspectors leave Syria\n",
      "\n",
      "Obama's remarks came shortly after U.N. inspectors left Syria, carrying evidence that will determine whether chemical weapons were used in an attack early last week in a Damascus suburb.\n",
      "\n",
      "\"The aim of the game here, the mandate, is very clear -- and that is to ascertain whether chemical weapons were used -- and not by whom,\" U.N. spokesman Martin Nesirky told reporters on Saturday.\n",
      "\n",
      "But who used the weapons in the reported toxic gas attack in a Damascus suburb on August 21 has been a key point of global debate over the Syrian crisis.\n",
      "\n",
      "Top U.S. officials have said there's no doubt that the Syrian government was behind it, while Syrian officials have denied responsibility and blamed jihadists fighting with the rebels.\n",
      "\n",
      "British and U.S. intelligence reports say the attack involved chemical weapons, but U.N. officials have stressed the importance of waiting for an official report from inspectors.\n",
      "\n",
      "The inspectors will share their findings with U.N. Secretary-General Ban Ki-moon Ban, who has said he wants to wait until the U.N. team's final report is completed before presenting it to the U.N. Security Council.\n",
      "\n",
      "The Organization for the Prohibition of Chemical Weapons, which nine of the inspectors belong to, said Saturday that it could take up to three weeks to analyze the evidence they collected.\n",
      "\n",
      "\"It needs time to be able to analyze the information and the samples,\" Nesirky said.\n",
      "\n",
      "He noted that Ban has repeatedly said there is no alternative to a political solution to the crisis in Syria, and that \"a military solution is not an option.\"\n",
      "\n",
      "Bergen:  Syria is a problem from hell for the U.S.\n",
      "\n",
      "Obama: 'This menace must be confronted'\n",
      "\n",
      "Obama's senior advisers have debated the next steps to take, and the president's comments Saturday came amid mounting political pressure over the situation in Syria. Some U.S. lawmakers have called for immediate action while others warn of stepping into what could become a quagmire.\n",
      "\n",
      "Some global leaders have expressed support, but the British Parliament's vote against military action earlier this week was a blow to Obama's hopes of getting strong backing from key NATO allies.\n",
      "\n",
      "On Saturday, Obama proposed what he said would be a limited military action against Syrian President Bashar al-Assad. Any military attack would not be open-ended or include U.S. ground forces, he said.\n",
      "\n",
      "Syria's alleged use of chemical weapons earlier this month \"is an assault on human dignity,\" the president said.\n",
      "\n",
      "A failure to respond with force, Obama argued,  \"could lead to escalating use of chemical weapons or their proliferation to terrorist groups who would do our people harm. In a world with many dangers, this menace must be confronted.\"\n",
      "\n",
      "Syria missile strike: What would happen next?\n",
      "\n",
      "Map: U.S. and allied assets around Syria\n",
      "\n",
      "Obama decision came Friday night\n",
      "\n",
      "On Friday night, the president made a last-minute decision to consult lawmakers.\n",
      "\n",
      "What will happen if they vote no?\n",
      "\n",
      "It's unclear. A senior administration official told CNN that Obama has the authority to act without Congress -- even if Congress rejects his request for authorization to use force.\n",
      "\n",
      "Obama on Saturday continued to shore up support for a strike on the al-Assad government.\n",
      "\n",
      "He spoke by phone with French President Francois Hollande before his Rose Garden speech.\n",
      "\n",
      "\"The two leaders agreed that the international community must deliver a resolute message to the Assad regime -- and others who would consider using chemical weapons -- that these crimes are unacceptable and those who violate this international norm will be held accountable by the world,\" the White House said.\n",
      "\n",
      "Meanwhile, as uncertainty loomed over how Congress would weigh in, U.S. military officials said they remained at the ready.\n",
      "\n",
      "5 key assertions: U.S. intelligence report on Syria\n",
      "\n",
      "Syria: Who wants what after chemical weapons horror\n",
      "\n",
      "Reactions mixed to Obama's speech\n",
      "\n",
      "A spokesman for the Syrian National Coalition said that the opposition group was disappointed by Obama's announcement.\n",
      "\n",
      "\"Our fear now is that the lack of action could embolden the regime and they repeat his attacks in a more serious way,\" said spokesman Louay Safi. \"So we are quite concerned.\"\n",
      "\n",
      "Some members of Congress applauded Obama's decision.\n",
      "\n",
      "House Speaker John Boehner, Majority Leader Eric Cantor, Majority Whip Kevin McCarthy and Conference Chair Cathy McMorris Rodgers issued a statement Saturday praising the president.\n",
      "\n",
      "\"Under the Constitution, the responsibility to declare war lies with Congress,\" the Republican lawmakers said. \"We are glad the president is seeking authorization for any military action in Syria in response to serious, substantive questions being raised.\"\n",
      "\n",
      "More than 160 legislators, including 63 of Obama's fellow Democrats, had signed letters calling for either a vote or at least a \"full debate\" before any U.S. action.\n",
      "\n",
      "British Prime Minister David Cameron, whose own attempt to get lawmakers in his country to support military action in Syria failed earlier this week, responded to Obama's speech in a Twitter post Saturday.\n",
      "\n",
      "\"I understand and support Barack Obama's position on Syria,\" Cameron said.\n",
      "\n",
      "An influential lawmaker in Russia -- which has stood by Syria and criticized the United States -- had his own theory.\n",
      "\n",
      "\"The main reason Obama is turning to the Congress:  the military operation did not get enough support either in the world, among allies of the US or in the United States itself,\" Alexei Pushkov, chairman of the international-affairs committee of the Russian State Duma, said in a Twitter post.\n",
      "\n",
      "In the United States, scattered groups of anti-war protesters around the country took to the streets Saturday.\n",
      "\n",
      "\"Like many other Americans...we're just tired of the United States getting involved and invading and bombing other countries,\" said Robin Rosecrans, who was among hundreds at a Los Angeles demonstration.\n",
      "\n",
      "What do Syria's neighbors think?\n",
      "\n",
      "Why Russia, China, Iran stand by Assad\n",
      "\n",
      "Syria's government unfazed\n",
      "\n",
      "After Obama's speech, a military and political analyst on Syrian state TV said Obama is \"embarrassed\" that Russia opposes military action against Syria, is \"crying for help\" for someone to come to his rescue and is facing two defeats -- on the political and military levels.\n",
      "\n",
      "Syria's prime minister appeared unfazed by the saber-rattling.\n",
      "\n",
      "\"The Syrian Army's status is on maximum readiness and fingers are on the trigger to confront all challenges,\" Wael Nader al-Halqi said during a meeting with a delegation of Syrian expatriates from Italy, according to a banner on Syria State TV that was broadcast prior to Obama's address.\n",
      "\n",
      "An anchor on Syrian state television said Obama \"appeared to be preparing for an aggression on Syria based on repeated lies.\"\n",
      "\n",
      "A top Syrian diplomat told the state television network that Obama was facing pressure to take military action from Israel, Turkey, some Arabs and right-wing extremists in the United States.\n",
      "\n",
      "\"I think he has done well by doing what Cameron did in terms of taking the issue to Parliament,\" said Bashar Jaafari, Syria's ambassador to the United Nations.\n",
      "\n",
      "Both Obama and Cameron, he said, \"climbed to the top of the tree and don't know how to get down.\"\n",
      "\n",
      "The Syrian government has denied that it used chemical weapons in the August 21 attack, saying that jihadists fighting with the rebels used them in an effort to turn global sentiments against it.\n",
      "\n",
      "British intelligence had put the number of people killed in the attack at more than 350.\n",
      "\n",
      "On Saturday, Obama said \"all told, well over 1,000 people were murdered.\" U.S. Secretary of State John Kerry on Friday cited a death toll of 1,429, more than 400 of them children. No explanation was offered for the discrepancy.\n",
      "\n",
      "Iran: U.S. military action in Syria would spark 'disaster'\n",
      "\n",
      "Opinion: Why strikes in Syria are a bad idea\n",
      "\n",
      "@highlight\n",
      "\n",
      "Syrian official: Obama climbed to the top of the tree, \"doesn't know how to get down\"\n",
      "\n",
      "@highlight\n",
      "\n",
      "Obama sends a letter to the heads of the House and Senate\n",
      "\n",
      "@highlight\n",
      "\n",
      "Obama to seek congressional approval on military action against Syria\n",
      "\n",
      "@highlight\n",
      "\n",
      "Aim is to determine whether CW were used, not by whom, says U.N. spokesman\n"
     ]
    }
   ],
   "source": [
    "with open(CNN_FILES[0]) as f:\n",
    "    print(f.read())"
   ]
  },
  {
   "cell_type": "code",
   "execution_count": 19,
   "metadata": {
    "scrolled": true
   },
   "outputs": [
    {
     "name": "stdout",
     "output_type": "stream",
     "text": [
      "Sky have won the bidding war for the rights to screen Floyd Mayweather v Manny Pacquiao in the UK, as revealed by Sportsmail last Friday.\n",
      "\n",
      "The richest fight of all time will not come cheap either — for Sky Sports or their subscribers — even though Sky are keeping faith with their core following by keeping the base price below £20.\n",
      "\n",
      "It has taken what is described by industry insiders as ‘a very substantial offer’ for Sky to fend off fierce competition from Frank Warren’s BoxNation.\n",
      "\n",
      "Floyd Mayweather's hotly-anticipated bout with Manny Pacquiao will be shown on Sky Sports\n",
      "\n",
      "Pacquiao headed for the playground after working out in Los Angeles previously\n",
      "\n",
      "The price for the fight has been set at £19.95 until midnight of Friday May 1. \n",
      "\n",
      "The cost will remain the same for those paying via remote control or online, but will be £24.95 if booked via phone after Friday.\n",
      "\n",
      "Sky are flirting with their threshold of £20 by charging £19.95 a buy on their Sports Box Office channel until midnight on May 1, rising to £24.95 on May 2, the day of the fight in Las Vegas. Since they are understood to have broken past protocol by offering the US promoters a cut of that revenue as well as a hefty up-front payment, it is expected they will have to shatter the pay-per-view record in this country to break even.\n",
      "\n",
      "The current Sky record stands at 1.2million buys for Ricky Hatton’s Vegas loss to Mayweather in 2007.\n",
      "\n",
      "Warren is believed to have offered a higher lump sum than Sky in the hope of attracting another two million customers to his £12-a-month subscription channel.\n",
      "\n",
      "It is doubtful if Sky can reach that number at £20 per sale at 4am on a Sunday morning, but if they get 1.5m buys they should be out of the red.\n",
      "\n",
      "Mayweather continued to work on the pads in his Las Vegas gym as he prepares for the fight\n",
      "\n",
      "Pacquiao will take on Mayweather at the MGM Grand in Las Vegas on May 2 in one of the biggest fights ever\n",
      "\n",
      "@highlight\n",
      "\n",
      "Sky has been in fierce competition with Frank Warren's BoxNation\n",
      "\n",
      "@highlight\n",
      "\n",
      "The broadcaster has won the right to show the $300m (£200m) bout\n",
      "\n",
      "@highlight\n",
      "\n",
      "Sky has set the price for Floyd Mayweather vs Manny Pacquiao at £19.95\n",
      "\n",
      "@highlight\n",
      "\n",
      "The mega-fight takes place at the MGM Grand in Las Vegas on May 2\n",
      "\n",
      "@highlight\n",
      "\n",
      "Read how Jeff Powell broke the news of Sky's deal \n"
     ]
    }
   ],
   "source": [
    "with open(DAILY_MAIL_FILES[0]) as f:\n",
    "    print(f.read())"
   ]
  },
  {
   "cell_type": "code",
   "execution_count": 21,
   "metadata": {},
   "outputs": [],
   "source": [
    "FILES = CNN_FILES + DAILY_MAIL_FILES"
   ]
  },
  {
   "cell_type": "code",
   "execution_count": 22,
   "metadata": {},
   "outputs": [
    {
     "data": {
      "text/plain": [
       "['../cnn/stories/0001d1afc246a7964130f43ae940af6bc6c57f01.story',\n",
       " '../cnn/stories/0002095e55fcbd3a2f366d9bf92a95433dc305ef.story',\n",
       " '../cnn/stories/00027e965c8264c35cc1bc55556db388da82b07f.story',\n",
       " '../cnn/stories/0002c17436637c4fe1837c935c04de47adb18e9a.story',\n",
       " '../cnn/stories/0003ad6ef0c37534f80b55b4235108024b407f0b.story',\n",
       " '../cnn/stories/0004306354494f090ee2d7bc5ddbf80b63e80de6.story',\n",
       " '../cnn/stories/0005d61497d21ff37a17751829bd7e3b6e4a7c5c.story',\n",
       " '../cnn/stories/0006021f772fad0aa78a977ce4a31b3faa6e6fe5.story',\n",
       " '../cnn/stories/00083697263e215e5e7eda753070f08aa374dd45.story',\n",
       " '../cnn/stories/000940f2bb357ac04a236a232156d8b9b18d1667.story']"
      ]
     },
     "execution_count": 22,
     "metadata": {},
     "output_type": "execute_result"
    }
   ],
   "source": [
    "FILES[:10]"
   ]
  },
  {
   "cell_type": "markdown",
   "metadata": {},
   "source": [
    "## build parser"
   ]
  },
  {
   "cell_type": "code",
   "execution_count": 23,
   "metadata": {},
   "outputs": [],
   "source": [
    "import os\n",
    "def parse(file, max_summary_sentences=None):\n",
    "    with open(file) as f:\n",
    "        id_ = os.path.basename(file)\n",
    "        content = f.read().replace('\\n', ' \\n ') \\\n",
    "                          .replace('\\n  \\n', '\\n\\n')\n",
    "        context, *highlights = content.split('@highlight')\n",
    "        if max_summary_sentences is not None:\n",
    "            highlights = highlights[:max_summary_sentences]\n",
    "        summary = ' . '.join(highlights) + ' .'\n",
    "        return id_, context, summary"
   ]
  },
  {
   "cell_type": "code",
   "execution_count": 24,
   "metadata": {},
   "outputs": [
    {
     "name": "stderr",
     "output_type": "stream",
     "text": [
      "100%|██████████| 312085/312085 [02:42<00:00, 1926.13it/s]\n"
     ]
    }
   ],
   "source": [
    "import tqdm\n",
    "summaries = [parse(f, MAX_SUMMARY_SENTENCES) for f in tqdm.tqdm(FILES)]"
   ]
  },
  {
   "cell_type": "code",
   "execution_count": 25,
   "metadata": {
    "scrolled": true
   },
   "outputs": [
    {
     "data": {
      "text/plain": [
       "('0002095e55fcbd3a2f366d9bf92a95433dc305ef.story',\n",
       " '(CNN) -- Usain Bolt rounded off the world championships Sunday by claiming his third gold in Moscow as he anchored Jamaica to victory in the men\\'s 4x100m relay. \\n\\n The fastest man in the world charged clear of United States rival Justin Gatlin as the Jamaican quartet of Nesta Carter, Kemar Bailey-Cole, Nickel Ashmeade and Bolt won in 37.36 seconds. \\n\\n The U.S finished second in 37.56 seconds with Canada taking the bronze after Britain were disqualified for a faulty handover. \\n\\n The 26-year-old Bolt has now collected eight gold medals at world championships, equaling the record held by American trio Carl Lewis, Michael Johnson and Allyson Felix, not to mention the small matter of six Olympic titles. \\n\\n The relay triumph followed individual successes in the 100 and 200 meters in the Russian capital. \\n\\n \"I\\'m proud of myself and I\\'ll continue to work to dominate for as long as possible,\" Bolt said, having previously expressed his intention to carry on until the 2016 Rio Olympics. \\n\\n Victory was never seriously in doubt once he got the baton safely in hand from Ashmeade, while Gatlin and the United States third leg runner Rakieem Salaam had problems. \\n\\n Gatlin strayed out of his lane as he struggled to get full control of their baton and was never able to get on terms with Bolt. \\n\\n Earlier, Jamaica\\'s women underlined their dominance in the sprint events by winning the 4x100m relay gold, anchored by Shelly-Ann Fraser-Pryce, who like Bolt was completing a triple. \\n\\n Their quartet recorded a championship record of 41.29 seconds, well clear of France, who crossed the line in second place in 42.73 seconds. \\n\\n Defending champions, the United States, were initially back in the bronze medal position after losing time on the second handover between Alexandria Anderson and English Gardner, but promoted to silver when France were subsequently disqualified for an illegal handover. \\n\\n The British quartet, who were initially fourth, were promoted to the bronze which eluded their men\\'s team. \\n\\n Fraser-Pryce, like Bolt aged 26, became the first woman to achieve three golds in the 100-200 and the relay. \\n\\n In other final action on the last day of the championships, France\\'s Teddy Tamgho became the third man to leap over 18m in the triple jump, exceeding the mark by four centimeters to take gold. \\n\\n Germany\\'s Christina Obergfoll finally took gold at global level in the women\\'s javelin after five previous silvers, while Kenya\\'s Asbel Kiprop easily won a tactical men\\'s 1500m final. \\n\\n Kiprop\\'s compatriot Eunice Jepkoech Sum was a surprise winner of the women\\'s 800m. \\n\\n Bolt\\'s final dash for golden glory brought the eight-day championship to a rousing finale, but while the hosts topped the medal table from the United States there was criticism of the poor attendances in the Luzhniki Stadium. \\n\\n There was further concern when their pole vault gold medalist Yelena Isinbayeva made controversial remarks in support of Russia\\'s new laws, which make \"the propagandizing of non-traditional sexual relations among minors\" a criminal offense. \\n\\n She later attempted to clarify her comments, but there were renewed calls by gay rights groups for a boycott of the 2014 Winter Games in Sochi, the next major sports event in Russia. \\n\\n ',\n",
       " ' \\n\\n Usain Bolt wins third gold of world championship \\n\\n  .  \\n\\n Anchors Jamaica to 4x100m relay victory \\n\\n  .')"
      ]
     },
     "execution_count": 25,
     "metadata": {},
     "output_type": "execute_result"
    }
   ],
   "source": [
    "summaries[1]"
   ]
  },
  {
   "cell_type": "markdown",
   "metadata": {},
   "source": [
    "## Calculate some basic statistics on data\n",
    "\n",
    "Summary stats should match (when there is no limit placed on summary length and new lines are not split out)\n",
    "\n",
    "\"The source documents in the training\n",
    "set have 766 words spanning 29.74 sentences\n",
    "on an average while the summaries consist of 53\n",
    "words and 3.72 sentences.\"\n",
    "\n",
    "see,\n",
    "https://arxiv.org/pdf/1602.06023.pdf"
   ]
  },
  {
   "cell_type": "code",
   "execution_count": 26,
   "metadata": {},
   "outputs": [
    {
     "name": "stderr",
     "output_type": "stream",
     "text": [
      "100%|██████████| 312085/312085 [00:28<00:00, 10831.28it/s]\n"
     ]
    }
   ],
   "source": [
    "context_lens, summary_lens = [], []\n",
    "context_sentences, summary_sentences = [], []\n",
    "for _, context, summary in tqdm.tqdm(summaries):\n",
    "    context_lens.append(len(context.split(' ')))\n",
    "    context_sentences.append(context.count('.'))\n",
    "    summary_lens.append(len(summary.split(' ')))\n",
    "    summary_sentences.append(summary.count('.'))"
   ]
  },
  {
   "cell_type": "code",
   "execution_count": 27,
   "metadata": {},
   "outputs": [],
   "source": [
    "import pandas as pd\n",
    "df = pd.DataFrame({\n",
    "    'context_len': context_lens,\n",
    "    'summary_len': summary_lens,\n",
    "    'context_sent': context_sentences,\n",
    "    'summary_sentences': summary_sentences\n",
    "})"
   ]
  },
  {
   "cell_type": "code",
   "execution_count": 28,
   "metadata": {},
   "outputs": [
    {
     "data": {
      "text/html": [
       "<div>\n",
       "<style scoped>\n",
       "    .dataframe tbody tr th:only-of-type {\n",
       "        vertical-align: middle;\n",
       "    }\n",
       "\n",
       "    .dataframe tbody tr th {\n",
       "        vertical-align: top;\n",
       "    }\n",
       "\n",
       "    .dataframe thead th {\n",
       "        text-align: right;\n",
       "    }\n",
       "</style>\n",
       "<table border=\"1\" class=\"dataframe\">\n",
       "  <thead>\n",
       "    <tr style=\"text-align: right;\">\n",
       "      <th></th>\n",
       "      <th>context_len</th>\n",
       "      <th>summary_len</th>\n",
       "      <th>context_sent</th>\n",
       "      <th>summary_sentences</th>\n",
       "    </tr>\n",
       "  </thead>\n",
       "  <tbody>\n",
       "    <tr>\n",
       "      <th>count</th>\n",
       "      <td>312085.000000</td>\n",
       "      <td>312085.000000</td>\n",
       "      <td>312085.000000</td>\n",
       "      <td>312085.000000</td>\n",
       "    </tr>\n",
       "    <tr>\n",
       "      <th>mean</th>\n",
       "      <td>718.703270</td>\n",
       "      <td>35.354679</td>\n",
       "      <td>31.035487</td>\n",
       "      <td>2.142243</td>\n",
       "    </tr>\n",
       "    <tr>\n",
       "      <th>std</th>\n",
       "      <td>350.664124</td>\n",
       "      <td>7.080906</td>\n",
       "      <td>19.038796</td>\n",
       "      <td>0.577843</td>\n",
       "    </tr>\n",
       "    <tr>\n",
       "      <th>min</th>\n",
       "      <td>3.000000</td>\n",
       "      <td>6.000000</td>\n",
       "      <td>0.000000</td>\n",
       "      <td>1.000000</td>\n",
       "    </tr>\n",
       "    <tr>\n",
       "      <th>25%</th>\n",
       "      <td>459.000000</td>\n",
       "      <td>31.000000</td>\n",
       "      <td>18.000000</td>\n",
       "      <td>2.000000</td>\n",
       "    </tr>\n",
       "    <tr>\n",
       "      <th>50%</th>\n",
       "      <td>656.000000</td>\n",
       "      <td>34.000000</td>\n",
       "      <td>27.000000</td>\n",
       "      <td>2.000000</td>\n",
       "    </tr>\n",
       "    <tr>\n",
       "      <th>75%</th>\n",
       "      <td>911.000000</td>\n",
       "      <td>38.000000</td>\n",
       "      <td>40.000000</td>\n",
       "      <td>2.000000</td>\n",
       "    </tr>\n",
       "    <tr>\n",
       "      <th>max</th>\n",
       "      <td>2722.000000</td>\n",
       "      <td>139.000000</td>\n",
       "      <td>2269.000000</td>\n",
       "      <td>13.000000</td>\n",
       "    </tr>\n",
       "  </tbody>\n",
       "</table>\n",
       "</div>"
      ],
      "text/plain": [
       "         context_len    summary_len   context_sent  summary_sentences\n",
       "count  312085.000000  312085.000000  312085.000000      312085.000000\n",
       "mean      718.703270      35.354679      31.035487           2.142243\n",
       "std       350.664124       7.080906      19.038796           0.577843\n",
       "min         3.000000       6.000000       0.000000           1.000000\n",
       "25%       459.000000      31.000000      18.000000           2.000000\n",
       "50%       656.000000      34.000000      27.000000           2.000000\n",
       "75%       911.000000      38.000000      40.000000           2.000000\n",
       "max      2722.000000     139.000000    2269.000000          13.000000"
      ]
     },
     "execution_count": 28,
     "metadata": {},
     "output_type": "execute_result"
    }
   ],
   "source": [
    "df.describe()"
   ]
  },
  {
   "cell_type": "markdown",
   "metadata": {},
   "source": [
    "## drop to disk"
   ]
  },
  {
   "cell_type": "code",
   "execution_count": 29,
   "metadata": {},
   "outputs": [],
   "source": [
    "try:\n",
    "    os.makedirs(OUTPUT_DIR)\n",
    "except OSError:\n",
    "    pass"
   ]
  },
  {
   "cell_type": "code",
   "execution_count": 30,
   "metadata": {},
   "outputs": [
    {
     "name": "stderr",
     "output_type": "stream",
     "text": [
      "100%|██████████| 312085/312085 [01:42<00:00, 3041.38it/s]\n"
     ]
    }
   ],
   "source": [
    "for id_, context, summary in tqdm.tqdm(summaries):\n",
    "    text = '\\t'.join([context, summary])\n",
    "    dst_basename = id_.replace('.story', '.txt')\n",
    "    dst = os.path.join(OUTPUT_DIR, dst_basename)\n",
    "    with open(dst, 'w') as f:\n",
    "        f.write(text)"
   ]
  },
  {
   "cell_type": "code",
   "execution_count": null,
   "metadata": {},
   "outputs": [],
   "source": []
  }
 ],
 "metadata": {
  "kernelspec": {
   "display_name": "Python 3",
   "language": "python",
   "name": "python3"
  },
  "language_info": {
   "codemirror_mode": {
    "name": "ipython",
    "version": 3
   },
   "file_extension": ".py",
   "mimetype": "text/x-python",
   "name": "python",
   "nbconvert_exporter": "python",
   "pygments_lexer": "ipython3",
   "version": "3.6.2"
  }
 },
 "nbformat": 4,
 "nbformat_minor": 2
}
