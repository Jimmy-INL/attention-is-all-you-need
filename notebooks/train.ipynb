{
 "cells": [
  {
   "cell_type": "markdown",
   "metadata": {},
   "source": [
    "TODO\n",
    "- label smoothing"
   ]
  },
  {
   "cell_type": "markdown",
   "metadata": {},
   "source": [
    "# Boilerplate"
   ]
  },
  {
   "cell_type": "code",
   "execution_count": 1,
   "metadata": {},
   "outputs": [],
   "source": [
    "import sys; sys.path.insert(0, '..')"
   ]
  },
  {
   "cell_type": "code",
   "execution_count": 2,
   "metadata": {},
   "outputs": [],
   "source": [
    "# more configs for training are defined later\n",
    "TRAINING_DIRECTORY = '../data/preprocessed_stories'\n",
    "EXTENSION = '.clean'\n",
    "N_TRAIN_FILES = 100_000\n",
    "N_TEST_FILES = 500\n",
    "# TOKENS_PER_BATCH = 4096\n",
    "TOKENS_PER_BATCH = 1_000\n",
    "BPE_MODEL_FILE = 'summarizer_10000.model'\n",
    "BPE_VOCAB_FILE = 'summarizer_10000.vocab'"
   ]
  },
  {
   "cell_type": "code",
   "execution_count": 3,
   "metadata": {
    "scrolled": true
   },
   "outputs": [],
   "source": [
    "# # show tensor2tensor hparams for summarization for reference\n",
    "# import tensor2tensor.models.transformer\n",
    "# from tensor2tensor.utils.registry import hparams\n",
    "# params = hparams('transformer_prepend')()\n",
    "# for k, v in sorted(vars(params).items(), key=lambda tup: tup[0]):\n",
    "#     if not k.startswith('_') and not callable(v):\n",
    "#         print(f'{k}={v!r}')"
   ]
  },
  {
   "cell_type": "markdown",
   "metadata": {},
   "source": [
    "# Read in files"
   ]
  },
  {
   "cell_type": "code",
   "execution_count": 4,
   "metadata": {},
   "outputs": [],
   "source": [
    "import glob"
   ]
  },
  {
   "cell_type": "code",
   "execution_count": 5,
   "metadata": {},
   "outputs": [
    {
     "name": "stdout",
     "output_type": "stream",
     "text": [
      "311971\n"
     ]
    },
    {
     "data": {
      "text/plain": [
       "['../data/preprocessed_stories/8bea156c50b9bb04ef1804a13971c381e63b790f.clean',\n",
       " '../data/preprocessed_stories/96f71e32fad9bfef59c4a67b021609cf86b126de.clean',\n",
       " '../data/preprocessed_stories/50a945a090973a747082435b6f4bfd1da7922ad6.clean',\n",
       " '../data/preprocessed_stories/0e2569c383c66c3491f16029af147019d79a2480.clean',\n",
       " '../data/preprocessed_stories/17c1d1ff679615f250f545750a3fa7feddc9a9ca.clean',\n",
       " '../data/preprocessed_stories/7471e1359d1b9e0440d948ee116089b109d005c3.clean',\n",
       " '../data/preprocessed_stories/b7470294d56d294e4fd9801f190ae92352e1216a.clean',\n",
       " '../data/preprocessed_stories/021d78038eef6d680537762a51963f514059ea97.clean',\n",
       " '../data/preprocessed_stories/debcabe9677c446e3fbb8851f225cb30d38beea6.clean',\n",
       " '../data/preprocessed_stories/b2fcb5fce5937b69c882a09151ba83c084fa4ad4.clean']"
      ]
     },
     "execution_count": 5,
     "metadata": {},
     "output_type": "execute_result"
    }
   ],
   "source": [
    "FILES = glob.glob('%s/*%s' % (TRAINING_DIRECTORY, EXTENSION))\n",
    "print(len(FILES))\n",
    "FILES[:10]"
   ]
  },
  {
   "cell_type": "code",
   "execution_count": 6,
   "metadata": {},
   "outputs": [],
   "source": [
    "TRAIN_FILES = FILES[:N_TRAIN_FILES]\n",
    "TEST_FILES = FILES[N_TRAIN_FILES:N_TRAIN_FILES+N_TEST_FILES]"
   ]
  },
  {
   "cell_type": "markdown",
   "metadata": {},
   "source": [
    "# Define batch generator"
   ]
  },
  {
   "cell_type": "markdown",
   "metadata": {},
   "source": [
    "# Initialize Tokenizer"
   ]
  },
  {
   "cell_type": "code",
   "execution_count": 7,
   "metadata": {},
   "outputs": [],
   "source": [
    "import numpy as np\n",
    "import sentencepiece as spm\n",
    "\n",
    "class BytePairEncoder:\n",
    "    def __init__(self, vocab_size, model_name, *, model_file=None, vocab_file=None,\n",
    "                 training_file=None, processor=None, **kwargs):\n",
    "        self.vocab_size = vocab_size\n",
    "        self.model_name = model_name\n",
    "        self.training_file = training_file\n",
    "        self.model_file = f'{self.model_name}.model' if model_file is None else model_file\n",
    "        self.vocab_file = f'{self.model_name}.vocab' if vocab_file is None else vocab_file\n",
    "        if processor is None:\n",
    "            if training_file is None:\n",
    "                raise ValueError('training_file cannot be None when processor is also None.')\n",
    "            processor = self._fit(input=training_file, vocab_size=vocab_size,\n",
    "                                  model_prefix=model_name, model_type='bpe',\n",
    "                                  **kwargs)\n",
    "        self.processor = processor\n",
    "        \n",
    "    def encode(self, text):\n",
    "        return np.array(self.processor.EncodeAsIds(text))\n",
    "    \n",
    "    def encode_as_pieces(self, text):\n",
    "        return self.processor.EncodeAsPieces(text)\n",
    "    \n",
    "    def decode(self, ids):\n",
    "        return self.processor.DecodeIds(ids.tolist())\n",
    "    \n",
    "    def decode_pieces(self, pieces):\n",
    "        return self.processor.DecodePieces(pieces)\n",
    "\n",
    "    @classmethod\n",
    "    def from_files(cls, model_file, vocab_file):\n",
    "        model_name = model_file.partition('.')[0]\n",
    "        processor = cls._load_model(model_file)\n",
    "        for vocab_size, _ in enumerate(open(vocab_file), start=1): pass\n",
    "        return cls(vocab_size=vocab_size, model_name=model_name, processor=processor,\n",
    "                   model_file=model_file, vocab_file=vocab_file)\n",
    "        \n",
    "    @staticmethod\n",
    "    def _load_model(filename):\n",
    "        processor = spm.SentencePieceProcessor()\n",
    "        processor.Load(filename)\n",
    "        return processor\n",
    "        \n",
    "    def _fit(self, **kwargs):\n",
    "        params = ' '.join([f'--{k}={v}' for k, v in kwargs.items()])\n",
    "        spm.SentencePieceTrainer.Train(params)\n",
    "        processor = self._load_model(self.model_file)\n",
    "        return processor"
   ]
  },
  {
   "cell_type": "code",
   "execution_count": 8,
   "metadata": {},
   "outputs": [],
   "source": [
    "# convenience function - decoding an unkown token breaks sentencepiece\n",
    "def decode(arr, pad_token, decoder):\n",
    "    valid_tokens = iter(arr[arr != pad_token])\n",
    "    output = []\n",
    "    for pad in (arr == pad_token):\n",
    "        output.append('<pad>' if pad else decoder(np.array([next(valid_tokens)])))\n",
    "    print(len(output))\n",
    "    return ' '.join(output)"
   ]
  },
  {
   "cell_type": "code",
   "execution_count": 9,
   "metadata": {},
   "outputs": [],
   "source": [
    "# trained in byte-pair-encoding\n",
    "TOKENIZER = BytePairEncoder.from_files(BPE_MODEL_FILE, BPE_VOCAB_FILE)"
   ]
  },
  {
   "cell_type": "code",
   "execution_count": 10,
   "metadata": {},
   "outputs": [
    {
     "data": {
      "text/plain": [
       "10000"
      ]
     },
     "execution_count": 10,
     "metadata": {},
     "output_type": "execute_result"
    }
   ],
   "source": [
    "TOKENIZER.vocab_size"
   ]
  },
  {
   "cell_type": "markdown",
   "metadata": {},
   "source": [
    "# Tokenize files"
   ]
  },
  {
   "cell_type": "code",
   "execution_count": 11,
   "metadata": {},
   "outputs": [],
   "source": [
    "class TrainingExample:\n",
    "    \"\"\"Simple container to keep track of training data. Useful for debugging.\"\"\"\n",
    "    def __init__(self, item, context_text, target_text, context_tokens,\n",
    "                 target_tokens, filename):\n",
    "        self.item = item\n",
    "        self.context_text = context_text\n",
    "        self.target_text = target_text\n",
    "        self.context_tokens = context_tokens\n",
    "        self.target_tokens = target_tokens\n",
    "        self.filename = filename\n",
    "        \n",
    "    def __len__(self):\n",
    "        return len(self.context_tokens) + len(self.target_tokens)\n",
    "\n",
    "def load_files(files, encoder):\n",
    "    \"\"\"Load and tokenize files.\"\"\"\n",
    "    training_examples = []\n",
    "    for file in files:\n",
    "        with open(file) as f:\n",
    "            context_text, target_text = f.read().split('\\t')\n",
    "        context_tokens = encoder(context_text)\n",
    "        target_tokens = encoder(target_text)\n",
    "        example = TrainingExample(file, context_text, target_text,\n",
    "                                  context_tokens, target_tokens,\n",
    "                                  file)\n",
    "        training_examples.append(example)\n",
    "    return training_examples"
   ]
  },
  {
   "cell_type": "code",
   "execution_count": 12,
   "metadata": {},
   "outputs": [
    {
     "data": {
      "application/vnd.jupyter.widget-view+json": {
       "model_id": "0a478557b51c49218b2851243e0a1e08",
       "version_major": 2,
       "version_minor": 0
      },
      "text/plain": [
       "HBox(children=(IntProgress(value=0, max=100000), HTML(value='')))"
      ]
     },
     "metadata": {},
     "output_type": "display_data"
    },
    {
     "name": "stdout",
     "output_type": "stream",
     "text": [
      "\n",
      "CPU times: user 3min 27s, sys: 3.23 s, total: 3min 31s\n",
      "Wall time: 3min 33s\n"
     ]
    }
   ],
   "source": [
    "%%time\n",
    "from tqdm import tqdm_notebook as tqdm\n",
    "TRAINING_EXAMPLES = load_files(tqdm(TRAIN_FILES), TOKENIZER.encode)\n",
    "# sort files by number of tokens to reduce padding\n",
    "TRAINING_EXAMPLES = sorted(TRAINING_EXAMPLES, key=lambda x: len(x))"
   ]
  },
  {
   "cell_type": "code",
   "execution_count": 13,
   "metadata": {},
   "outputs": [
    {
     "data": {
      "text/plain": [
       "(55, 4263, 913.0)"
      ]
     },
     "execution_count": 13,
     "metadata": {},
     "output_type": "execute_result"
    }
   ],
   "source": [
    "len(TRAINING_EXAMPLES[0]), len(TRAINING_EXAMPLES[-1]), np.median([len(example) for example in TRAINING_EXAMPLES])"
   ]
  },
  {
   "cell_type": "code",
   "execution_count": 14,
   "metadata": {},
   "outputs": [],
   "source": [
    "looky = iter(TRAINING_EXAMPLES)"
   ]
  },
  {
   "cell_type": "code",
   "execution_count": 15,
   "metadata": {},
   "outputs": [
    {
     "name": "stdout",
     "output_type": "stream",
     "text": [
      "../data/preprocessed_stories/86bd905861391cbd3a98de15c83768b6d1400304.clean\n",
      "CONTEXT TEXT\n",
      "Congressman Jared Polis\n",
      "\n",
      "(D) Colorado: District 02\n",
      "\n",
      "Congressman Jason Chaffetz\n",
      "\n",
      "(R) Utah: District 03\n",
      "\n",
      "TARGET TEXT\n",
      "Two freshman representatives document their experience for CNN. Rep. Jared Polis is a Democrat representing Colorado's Second district.\n",
      "\n",
      "CONTEXT TOKENS (DECODED)\n",
      "Congressman Jared Polis (D) Colorado: District 02 Congressman Jason Chaffetz (R) Utah: District 03\n",
      "\n",
      "TARGET TOKENS (DECODED)\n",
      "Two freshman representatives document their experience for CNN. Rep. Jared Polis is a Democrat representing Colorado's Second district.\n"
     ]
    }
   ],
   "source": [
    "example = next(looky)\n",
    "print(example.filename)\n",
    "print('CONTEXT TEXT')\n",
    "print(example.context_text)\n",
    "print('\\nTARGET TEXT')\n",
    "print(example.target_text)\n",
    "print('\\nCONTEXT TOKENS (DECODED)')\n",
    "print(TOKENIZER.decode(example.context_tokens))\n",
    "print('\\nTARGET TOKENS (DECODED)')\n",
    "print(TOKENIZER.decode(example.target_tokens))"
   ]
  },
  {
   "cell_type": "markdown",
   "metadata": {},
   "source": [
    "# Take a look at batches"
   ]
  },
  {
   "cell_type": "code",
   "execution_count": 16,
   "metadata": {},
   "outputs": [
    {
     "name": "stderr",
     "output_type": "stream",
     "text": [
      "Using TensorFlow backend.\n"
     ]
    }
   ],
   "source": [
    "import numpy as np\n",
    "from data import BaseBatchGenerator\n",
    "from keras.preprocessing.sequence import pad_sequences\n",
    "\n",
    "\n",
    "class SummaryBatchGenerator(BaseBatchGenerator):\n",
    "    def __init__(self, max_context_len=None, max_target_len=None, pad_token=0,\n",
    "                 bos_token=1, eos_token=2, prepend=False):\n",
    "        self.max_context_len = max_context_len\n",
    "        self.max_target_len = max_target_len\n",
    "        self.bos_token = bos_token\n",
    "        self.eos_token = eos_token\n",
    "        self.pad_token = pad_token\n",
    "        self.prepend = prepend\n",
    "\n",
    "    def generate_steps(self, item):\n",
    "        example = item  # alias\n",
    "        if self.max_target_len is not None \\\n",
    "                and len(example.target_tokens) > self.max_target_len:\n",
    "            training_step = []\n",
    "        else:\n",
    "            # get encoder tokens.\n",
    "            if self.max_context_len is not None:\n",
    "                encoder_tokens = example.context_tokens[:self.max_context_len]\n",
    "            else:\n",
    "                encoder_tokens = example.context_tokens\n",
    "            # get decoder tokens.\n",
    "            # start with a pad to account for offsetting the decoder input from\n",
    "            # the output tokens\n",
    "            decoder_tokens = np.array([self.pad_token])\n",
    "            if self.prepend:\n",
    "                decoder_tokens = np.append(decoder_tokens, example.context_tokens)\n",
    "                decoder_tokens = np.append(decoder_tokens, self.eos_token)\n",
    "            decoder_tokens = np.append(decoder_tokens, example.target_tokens)\n",
    "            decoder_tokens = np.append(decoder_tokens, self.eos_token)\n",
    "            training_step = [(encoder_tokens, decoder_tokens, len(example))]\n",
    "        return training_step\n",
    "\n",
    "    def generate_batches(self, steps, batch_size):\n",
    "        batches = []\n",
    "        min_batch_size = 0.95 * batch_size\n",
    "        max_batch_size = 1.05 * batch_size\n",
    "        step_sizes = [size for _, _, size in steps]\n",
    "        current_batch_x1s = []\n",
    "        current_batch_x2s = []\n",
    "        items = enumerate(zip(steps, step_sizes, step_sizes[1:]))\n",
    "        max_used_i = -1\n",
    "        for i, (step, step_size, next_step_size) in items:\n",
    "            if step_size > max_batch_size:\n",
    "                continue\n",
    "            encoder_tokens, decoder_tokens, _ = step\n",
    "            current_batch_x1s.append(encoder_tokens)\n",
    "            current_batch_x2s.append(decoder_tokens)\n",
    "            next_batch_size = (len(current_batch_x1s) + 1) * next_step_size  # account for padding\n",
    "            if next_batch_size > max_batch_size:\n",
    "                max_used_i = i\n",
    "                x1 = pad_sequences(current_batch_x1s, value=self.pad_token, padding='post')\n",
    "                x2 = pad_sequences(current_batch_x2s, value=self.pad_token, padding='post')\n",
    "                X = [x1, x2[:,:-1]]\n",
    "                y = x2[:,1:]\n",
    "                batches.append((X, y))\n",
    "                current_batch_x1s, current_batch_x2s = [], []\n",
    "            # if there aren't enough steps left to create a full sized batch\n",
    "            # then break, the leftover steps will be added to the next call\n",
    "            # to generate_batches()\n",
    "            if sum(step_sizes[i+1:]) < batch_size:\n",
    "                break\n",
    "        return (batches, steps[max_used_i+1:]) if max_used_i >= 0 else (batches, steps)\n"
   ]
  },
  {
   "cell_type": "code",
   "execution_count": 17,
   "metadata": {},
   "outputs": [],
   "source": [
    "BATCH_GENERATOR = SummaryBatchGenerator(pad_token=TOKENIZER.vocab_size, prepend=True)"
   ]
  },
  {
   "cell_type": "code",
   "execution_count": 18,
   "metadata": {},
   "outputs": [],
   "source": [
    "epoch_generator = BATCH_GENERATOR.generate_epoch(TRAINING_EXAMPLES, batch_size=TOKENS_PER_BATCH)"
   ]
  },
  {
   "cell_type": "code",
   "execution_count": 19,
   "metadata": {},
   "outputs": [
    {
     "name": "stdout",
     "output_type": "stream",
     "text": [
      "CPU times: user 2min 43s, sys: 556 ms, total: 2min 43s\n",
      "Wall time: 2min 43s\n"
     ]
    }
   ],
   "source": [
    "%time epoch = list(epoch_generator)"
   ]
  },
  {
   "cell_type": "code",
   "execution_count": 20,
   "metadata": {},
   "outputs": [
    {
     "data": {
      "text/plain": [
       "53523"
      ]
     },
     "execution_count": 20,
     "metadata": {},
     "output_type": "execute_result"
    }
   ],
   "source": [
    "len(epoch)"
   ]
  },
  {
   "cell_type": "code",
   "execution_count": 21,
   "metadata": {},
   "outputs": [
    {
     "data": {
      "text/plain": [
       "(61310, 100000)"
      ]
     },
     "execution_count": 21,
     "metadata": {},
     "output_type": "execute_result"
    }
   ],
   "source": [
    "sum(x1.shape[0] for (x1, x2), y in epoch), len(TRAINING_EXAMPLES)"
   ]
  },
  {
   "cell_type": "code",
   "execution_count": 22,
   "metadata": {},
   "outputs": [],
   "source": [
    "# TOOD: if we skip a training example because it is too large or if steps\n",
    "#       are \"leftover\" because they aren't big enough for a batch this will fail\n",
    "#       \n",
    "# assert sum(x1.shape[0] for (x1, _), _ in epoch) == len(TRAINING_EXAMPLES), \\\n",
    "#    'number of steps in batch does not equal number of examples'"
   ]
  },
  {
   "cell_type": "code",
   "execution_count": 23,
   "metadata": {},
   "outputs": [],
   "source": [
    "def view_training_steps(x1, x2, y):\n",
    "    print('ENCODER INPUT')\n",
    "    print(decode(x1, 10_000, TOKENIZER.decode))\n",
    "    print('\\n')\n",
    "    print('DECODER INPUT')\n",
    "    print(decode(x2, 10_000, TOKENIZER.decode))\n",
    "    print('\\n')\n",
    "    print('OUTPUT')\n",
    "    print(decode(y, 10_000, TOKENIZER.decode))"
   ]
  },
  {
   "cell_type": "code",
   "execution_count": 24,
   "metadata": {},
   "outputs": [],
   "source": [
    "np.random.shuffle(epoch)\n",
    "views = (view_training_steps(x1[0], x2[0], y[0]) for (x1, x2), y in epoch)"
   ]
  },
  {
   "cell_type": "code",
   "execution_count": 25,
   "metadata": {},
   "outputs": [
    {
     "name": "stdout",
     "output_type": "stream",
     "text": [
      "ENCODER INPUT\n",
      "491\n",
      "By Step h C ock ro ft A her d of c ows was spotted mar aud ing through a sleep y village and into residents ' front g ard ens after myster iously esc aping from a field in a quiet S uff olk village . Police had to help round up the L on gh orn ste ers , c attle and cal ves after they sa un tered through the streets of Re y don , near the se as ide resort of South w old , S uff olk , early on Sunday morning . Commun ity nurse Cath y Ryan , 5 7, jumped out of bed after hearing the c ows ' bell owing ' outside her home and managed to co ax them back into a field . C ows were seen str oll ing through the streets of the tiny village Re y don , near South w old , S uff olk , early on Sunday morning The group of L on gh orn ste ers , c attle and cal ves charged through people ' s g ard ens during their str oll She said : ' I am used to w aking up to the d awn ch or us . But I thought I was dream ing when I heard c ows bel l owing outside my bedroom window at 5 am on a Sunday morning . ' The whole her d of c attle , including the L on gh orn ste ers , were running down , heading towards South w old . ' They brief ly stopped to m unch the grass and then turned back and ran .' She added : ' I managed to get them back to the foot p ath leading to their field but needed more hands as there were too many escape rout es . Police round ed up the c ows into a nearby field and said they were still trying to loc ate the owner of the escaped c attle Res ident Cath y Ryan , 5 7, jumped out of bed to try and take the c ows back to their field after hearing them ' bell owing ' outside her home ' E vent ually police back - up arrived and we safely her ded them into a field . It ' s a total mystery how they escaped and thank fully no one was hurt .' A S uff olk Police spokesman said : ' We had a report that a her d of c ows , some with h orn s , had escaped from a field and were in people ' s g ard ens . ' At 6 am they were back in a field , although it was not clear whether it was the right one . We are still trying to loc ate the owner of the c ows .'\n",
      "\n",
      "\n",
      "DECODER INPUT\n",
      "534\n",
      "<pad> By Step h C ock ro ft A her d of c ows was spotted mar aud ing through a sleep y village and into residents ' front g ard ens after myster iously esc aping from a field in a quiet S uff olk village . Police had to help round up the L on gh orn ste ers , c attle and cal ves after they sa un tered through the streets of Re y don , near the se as ide resort of South w old , S uff olk , early on Sunday morning . Commun ity nurse Cath y Ryan , 5 7, jumped out of bed after hearing the c ows ' bell owing ' outside her home and managed to co ax them back into a field . C ows were seen str oll ing through the streets of the tiny village Re y don , near South w old , S uff olk , early on Sunday morning The group of L on gh orn ste ers , c attle and cal ves charged through people ' s g ard ens during their str oll She said : ' I am used to w aking up to the d awn ch or us . But I thought I was dream ing when I heard c ows bel l owing outside my bedroom window at 5 am on a Sunday morning . ' The whole her d of c attle , including the L on gh orn ste ers , were running down , heading towards South w old . ' They brief ly stopped to m unch the grass and then turned back and ran .' She added : ' I managed to get them back to the foot p ath leading to their field but needed more hands as there were too many escape rout es . Police round ed up the c ows into a nearby field and said they were still trying to loc ate the owner of the escaped c attle Res ident Cath y Ryan , 5 7, jumped out of bed to try and take the c ows back to their field after hearing them ' bell owing ' outside her home ' E vent ually police back - up arrived and we safely her ded them into a field . It ' s a total mystery how they escaped and thank fully no one was hurt .' A S uff olk Police spokesman said : ' We had a report that a her d of c ows , some with h orn s , had escaped from a field and were in people ' s g ard ens . ' At 6 am they were back in a field , although it was not clear whether it was the right one . We are still trying to loc ate the owner of the c ows .'  The c ows were spotted in the village of Re y don , near South w old , S uff olk . Res ident Cath y Ryan tried to control her d as they mar ched through g ard ens .\n",
      "\n",
      "\n",
      "OUTPUT\n",
      "534\n",
      "By Step h C ock ro ft A her d of c ows was spotted mar aud ing through a sleep y village and into residents ' front g ard ens after myster iously esc aping from a field in a quiet S uff olk village . Police had to help round up the L on gh orn ste ers , c attle and cal ves after they sa un tered through the streets of Re y don , near the se as ide resort of South w old , S uff olk , early on Sunday morning . Commun ity nurse Cath y Ryan , 5 7, jumped out of bed after hearing the c ows ' bell owing ' outside her home and managed to co ax them back into a field . C ows were seen str oll ing through the streets of the tiny village Re y don , near South w old , S uff olk , early on Sunday morning The group of L on gh orn ste ers , c attle and cal ves charged through people ' s g ard ens during their str oll She said : ' I am used to w aking up to the d awn ch or us . But I thought I was dream ing when I heard c ows bel l owing outside my bedroom window at 5 am on a Sunday morning . ' The whole her d of c attle , including the L on gh orn ste ers , were running down , heading towards South w old . ' They brief ly stopped to m unch the grass and then turned back and ran .' She added : ' I managed to get them back to the foot p ath leading to their field but needed more hands as there were too many escape rout es . Police round ed up the c ows into a nearby field and said they were still trying to loc ate the owner of the escaped c attle Res ident Cath y Ryan , 5 7, jumped out of bed to try and take the c ows back to their field after hearing them ' bell owing ' outside her home ' E vent ually police back - up arrived and we safely her ded them into a field . It ' s a total mystery how they escaped and thank fully no one was hurt .' A S uff olk Police spokesman said : ' We had a report that a her d of c ows , some with h orn s , had escaped from a field and were in people ' s g ard ens . ' At 6 am they were back in a field , although it was not clear whether it was the right one . We are still trying to loc ate the owner of the c ows .'  The c ows were spotted in the village of Re y don , near South w old , S uff olk . Res ident Cath y Ryan tried to control her d as they mar ched through g ard ens . \n"
     ]
    }
   ],
   "source": [
    "next(views)"
   ]
  },
  {
   "cell_type": "code",
   "execution_count": 26,
   "metadata": {},
   "outputs": [
    {
     "name": "stdout",
     "output_type": "stream",
     "text": [
      "(1, 491) (1, 534)\n",
      "(1, 892) (1, 958)\n"
     ]
    }
   ],
   "source": [
    "(x1, x2), y = epoch[0]\n",
    "print(x1.shape, x2.shape)\n",
    "(x1, x2), y = epoch[-1]\n",
    "print(x1.shape, x2.shape)"
   ]
  },
  {
   "cell_type": "code",
   "execution_count": 27,
   "metadata": {},
   "outputs": [
    {
     "data": {
      "text/plain": [
       "((1, 892), (1, 958))"
      ]
     },
     "execution_count": 27,
     "metadata": {},
     "output_type": "execute_result"
    }
   ],
   "source": [
    "x1.shape, x2.shape"
   ]
  },
  {
   "cell_type": "code",
   "execution_count": 28,
   "metadata": {},
   "outputs": [
    {
     "data": {
      "text/plain": [
       "(defaultdict(int,\n",
       "             {'x1_tok': 40375872,\n",
       "              'x1_pad': 67117,\n",
       "              'x1_unk': 73742,\n",
       "              'x2_tok': 42721814,\n",
       "              'x2_pad': 61616,\n",
       "              'x2_unk': 76352}),\n",
       " defaultdict(__main__.LazyAverage,\n",
       "             {'x1_avg_seq_len': 703.8401061226015,\n",
       "              'x1_avg_pad': 1.2539842684453413,\n",
       "              'x1_avg_unk': 1.3777628309324963,\n",
       "              'x2_avg_seq_len': 742.9981503278964,\n",
       "              'x2_avg_pad': 1.1512060235786485,\n",
       "              'x2_avg_unk': 1.426526913663285}))"
      ]
     },
     "execution_count": 28,
     "metadata": {},
     "output_type": "execute_result"
    }
   ],
   "source": [
    "import collections\n",
    "\n",
    "class LazyAverage:\n",
    "    def __init__(self):\n",
    "        self.v = 0\n",
    "        self.n = 0\n",
    "        \n",
    "    def __add__(self, other):\n",
    "        self.v += other\n",
    "        self.n += 1\n",
    "        return self\n",
    "        \n",
    "    def __repr__(self):\n",
    "        return str(self.v / self.n)\n",
    "\n",
    "def calc_stats(epoch, pad_token, unkown_token):\n",
    "    stats = collections.defaultdict(int)\n",
    "    averages = collections.defaultdict(LazyAverage)\n",
    "    for (x1, x2), y in epoch:\n",
    "        stats['x1_tok'] += ((x1 != pad_token) & (x1 != unkown_token)).sum()\n",
    "        stats['x1_pad'] += (x1 == pad_token).sum()\n",
    "        stats['x1_unk'] += (x1 == unkown_token).sum()\n",
    "        stats['x2_tok'] += ((x2 != pad_token) & (x2 != unkown_token)).sum()\n",
    "        stats['x2_pad'] += (x2 == pad_token).sum()\n",
    "        stats['x2_unk'] += (x2 == unkown_token).sum()\n",
    "        averages['x1_avg_seq_len'] += x1.shape[-1]\n",
    "        averages['x1_avg_pad'] += (x1 == pad_token).sum()\n",
    "        averages['x1_avg_unk'] += (x1 == unkown_token).sum()\n",
    "        averages['x2_avg_seq_len'] += x2.shape[-1]\n",
    "        averages['x2_avg_pad'] += (x2 == pad_token).sum()\n",
    "        averages['x2_avg_unk'] += (x2 == unkown_token).sum()\n",
    "    return stats, averages\n",
    "calc_stats(epoch, BATCH_GENERATOR.pad_token, 0)"
   ]
  },
  {
   "cell_type": "markdown",
   "metadata": {},
   "source": [
    "## Build final training generator\n",
    "now that we're happy with the batch generator create one that goes forever"
   ]
  },
  {
   "cell_type": "code",
   "execution_count": 29,
   "metadata": {},
   "outputs": [],
   "source": [
    "# for debugging\n",
    "LAST_ITEM = collections.deque([None], maxlen=1)\n",
    "def generate_forever(items):\n",
    "    while True:\n",
    "        for item in items:\n",
    "            LAST_ITEM.append(item)\n",
    "            yield item\n",
    "        print('exhausted `items`, repeating')"
   ]
  },
  {
   "cell_type": "code",
   "execution_count": 30,
   "metadata": {},
   "outputs": [],
   "source": [
    "TRAIN_GEN = generate_forever(epoch)"
   ]
  },
  {
   "cell_type": "code",
   "execution_count": 31,
   "metadata": {},
   "outputs": [
    {
     "data": {
      "text/plain": [
       "deque([None])"
      ]
     },
     "execution_count": 31,
     "metadata": {},
     "output_type": "execute_result"
    }
   ],
   "source": [
    "LAST_ITEM"
   ]
  },
  {
   "cell_type": "markdown",
   "metadata": {},
   "source": [
    "# Training"
   ]
  },
  {
   "cell_type": "markdown",
   "metadata": {},
   "source": [
    "## Define functions for loss/metrics/callbacks"
   ]
  },
  {
   "cell_type": "code",
   "execution_count": 32,
   "metadata": {},
   "outputs": [],
   "source": [
    "import tensorflow as tf\n",
    "import keras.backend as K\n",
    "\n",
    "# on custom implementation rather than keras see\n",
    "# https://github.com/tensorflow/tensorflow/issues/17150\n",
    "def sparse_categorical_crossentropy(y_true, y_pred):\n",
    "    entropy = tf.nn.sparse_softmax_cross_entropy_with_logits(labels=y_true,\n",
    "                                                             logits=y_pred)\n",
    "    return entropy\n",
    "\n",
    "def sparse_entropy(y_true, y_pred):\n",
    "    # why do I have to do this?\n",
    "    return K.log(K.exp(sparse_categorical_crossentropy(y_true, y_pred)))\n",
    "\n",
    "def perplexity(y_true, y_pred):\n",
    "    return K.exp(sparse_categorical_crossentropy(y_true, y_pred))"
   ]
  },
  {
   "cell_type": "code",
   "execution_count": 33,
   "metadata": {},
   "outputs": [],
   "source": [
    "import numpy as np\n",
    "\n",
    "# see\n",
    "# https://github.com/tensorflow/tensor2tensor/blob/master/tensor2tensor/utils/learning_rate.py\n",
    "class LRScheduler:\n",
    "    \"\"\"Stateful learning rate scheduler.\n",
    "    \n",
    "    Useful if training is stopped and then resumed so that scheduling\n",
    "    resumes considering the epoch during which training was interrupted.\n",
    "    \"\"\"\n",
    "    def __init__(self, d_model, warmup_steps, learning_rate):\n",
    "        self.d_model = d_model\n",
    "        self.warmup_steps = warmup_steps\n",
    "        self.learning_rate = learning_rate\n",
    "        self.epoch = 1\n",
    "        self.initial_lr = self.lr()\n",
    "\n",
    "    def lr(self, *args):\n",
    "        scalar = 5000 \\\n",
    "               * self.d_model**-0.5 \\\n",
    "               * min(self.epoch * self.warmup_steps**-1.5, self.epoch**-0.5)\n",
    "        self.epoch += 1\n",
    "        return 0.002 * scalar * self.learning_rate"
   ]
  },
  {
   "cell_type": "markdown",
   "metadata": {},
   "source": [
    "## Define validation set"
   ]
  },
  {
   "cell_type": "code",
   "execution_count": null,
   "metadata": {},
   "outputs": [],
   "source": [
    "# %%time\n",
    "VALIDATION_EXAMPLES = load_files(tqdm(TEST_FILES[:1000]), TOKENIZER.encode)\n",
    "# sort files by number of tokens to reduce padding\n",
    "VALIDATION_EXAMPLES = sorted(VALIDATION_EXAMPLES, key=lambda x: len(x))\n",
    "TEST_EPOCH = list(BATCH_GENERATOR.generate_epoch(VALIDATION_EXAMPLES, batch_size=TOKENS_PER_BATCH))\n",
    "TEST_GEN = generate_forever(TEST_EPOCH)\n",
    "N_VALIDATION_STEPS = BATCH_GENERATOR.batches_per_epoch(VALIDATION_EXAMPLES, batch_size=TOKENS_PER_BATCH)"
   ]
  },
  {
   "cell_type": "markdown",
   "metadata": {},
   "source": [
    "## Training configs"
   ]
  },
  {
   "cell_type": "code",
   "execution_count": 35,
   "metadata": {},
   "outputs": [],
   "source": [
    "from keras.optimizers import adam\n",
    "from keras.callbacks import LearningRateScheduler, TensorBoard"
   ]
  },
  {
   "cell_type": "code",
   "execution_count": 36,
   "metadata": {},
   "outputs": [],
   "source": [
    "# # model architecture\n",
    "N_HEADS = 8\n",
    "N_LAYERS = 6\n",
    "D_MODEL = 64*N_HEADS\n",
    "SENTENCE_LEN = None\n",
    "VOCAB_SIZE = TOKENIZER.vocab_size + 1  # +1 accounts for pad token\n",
    "DROPOUT = 0.1\n",
    "OUTPUT_ACTIVATION = 'linear'  # temporary workaround for keras bug - see above\n",
    "\n",
    "# learning rate\n",
    "WARMUP_STEPS = 32_000\n",
    "LEARNING_RATE = 0.2\n",
    "LEARNING_RATE_SCHEDULER = LRScheduler(D_MODEL, WARMUP_STEPS, LEARNING_RATE)\n",
    "\n",
    "# # optimization\n",
    "# # https://arxiv.org/pdf/1804.00247.pdf\n",
    "BETA_1 = 0.9\n",
    "BETA_2 = 0.98\n",
    "EPSILON = 1e-9\n",
    "OPTIMIZER = adam(lr=LEARNING_RATE_SCHEDULER.initial_lr, beta_1=BETA_1, beta_2=BETA_2, epsilon=EPSILON)\n",
    "METRICS = []\n",
    "LOSS = sparse_entropy\n",
    "\n",
    "# # batch training\n",
    "N_EPOCHS = 30\n",
    "N_TRAIN_STEPS = 10_000\n",
    "CALLBACKS = [LearningRateScheduler(LEARNING_RATE_SCHEDULER.lr),\n",
    "             TensorBoard(log_dir='./logs')]"
   ]
  },
  {
   "cell_type": "markdown",
   "metadata": {},
   "source": [
    "## Training"
   ]
  },
  {
   "cell_type": "code",
   "execution_count": 37,
   "metadata": {},
   "outputs": [
    {
     "data": {
      "text/plain": [
       "[<matplotlib.lines.Line2D at 0x7f1954915588>]"
      ]
     },
     "execution_count": 37,
     "metadata": {},
     "output_type": "execute_result"
    },
    {
     "data": {
      "image/png": "[encoded data removed]",
      "text/plain": [
       "<Figure size 432x288 with 1 Axes>"
      ]
     },
     "metadata": {},
     "output_type": "display_data"
    }
   ],
   "source": [
    "import matplotlib.pyplot as plt\n",
    "%matplotlib inline\n",
    "scheduler = LRScheduler(D_MODEL, WARMUP_STEPS, LEARNING_RATE)\n",
    "learning_rates = [scheduler.lr()\n",
    "                  for _ in range(WARMUP_STEPS+20_000)]\n",
    "plt.plot(learning_rates)"
   ]
  },
  {
   "cell_type": "code",
   "execution_count": 38,
   "metadata": {},
   "outputs": [],
   "source": [
    "from model import Transformer\n",
    "model = Transformer(\n",
    "    n_heads=N_HEADS,\n",
    "    encoder_layers=N_LAYERS,\n",
    "    decoder_layers=N_LAYERS,\n",
    "    d_model=D_MODEL,\n",
    "    vocab_size=VOCAB_SIZE,\n",
    "    sequence_len=SENTENCE_LEN,\n",
    "    dropout=DROPOUT,\n",
    "    output_activation=OUTPUT_ACTIVATION)"
   ]
  },
  {
   "cell_type": "code",
   "execution_count": 39,
   "metadata": {},
   "outputs": [
    {
     "name": "stdout",
     "output_type": "stream",
     "text": [
      "__________________________________________________________________________________________________\n",
      "Layer (type)                    Output Shape         Param #     Connected to                     \n",
      "==================================================================================================\n",
      "decoder_input_spec (InputLayer) (None, None)         0                                            \n",
      "__________________________________________________________________________________________________\n",
      "encoder_input_spec (InputLayer) (None, None)         0                                            \n",
      "__________________________________________________________________________________________________\n",
      "embedding (Embedding)           (None, None, 512)    5120512     encoder_input_spec[0][0]         \n",
      "                                                                 decoder_input_spec[0][0]         \n",
      "__________________________________________________________________________________________________\n",
      "positional_encoding_1 (Position (None, None, 512)    0           embedding[0][0]                  \n",
      "                                                                 embedding[1][0]                  \n",
      "__________________________________________________________________________________________________\n",
      "embedding_scalar (Scalar)       (None, None, 512)    0           positional_encoding_1[0][0]      \n",
      "                                                                 positional_encoding_1[1][0]      \n",
      "__________________________________________________________________________________________________\n",
      "dropout_1 (Dropout)             (None, None, 512)    0           embedding_scalar[0][0]           \n",
      "__________________________________________________________________________________________________\n",
      "encoder_layer1_mha (MultiHeadAt (None, None, 512)    262144      dropout_1[0][0]                  \n",
      "__________________________________________________________________________________________________\n",
      "dropout_3 (Dropout)             (None, None, 512)    0           encoder_layer1_mha[0][0]         \n",
      "__________________________________________________________________________________________________\n",
      "encoder_layer1_residual1 (Add)  (None, None, 512)    0           dropout_1[0][0]                  \n",
      "                                                                 dropout_3[0][0]                  \n",
      "__________________________________________________________________________________________________\n",
      "encoder_layer1_layernorm1 (Laye (None, None, 512)    1024        encoder_layer1_residual1[0][0]   \n",
      "__________________________________________________________________________________________________\n",
      "encoder_layer1_ffn1 (Dense)     (None, None, 512)    262656      encoder_layer1_layernorm1[0][0]  \n",
      "__________________________________________________________________________________________________\n",
      "encoder_layer1_ffn2 (Dense)     (None, None, 512)    262656      encoder_layer1_ffn1[0][0]        \n",
      "__________________________________________________________________________________________________\n",
      "dropout_4 (Dropout)             (None, None, 512)    0           encoder_layer1_ffn2[0][0]        \n",
      "__________________________________________________________________________________________________\n",
      "encoder_layer1_residual2 (Add)  (None, None, 512)    0           encoder_layer1_layernorm1[0][0]  \n",
      "                                                                 dropout_4[0][0]                  \n",
      "__________________________________________________________________________________________________\n",
      "encoder_layer1_layernorm2 (Laye (None, None, 512)    1024        encoder_layer1_residual2[0][0]   \n",
      "__________________________________________________________________________________________________\n",
      "encoder_layer2_mha (MultiHeadAt (None, None, 512)    262144      encoder_layer1_layernorm2[0][0]  \n",
      "__________________________________________________________________________________________________\n",
      "dropout_5 (Dropout)             (None, None, 512)    0           encoder_layer2_mha[0][0]         \n",
      "__________________________________________________________________________________________________\n",
      "encoder_layer2_residual1 (Add)  (None, None, 512)    0           encoder_layer1_layernorm2[0][0]  \n",
      "                                                                 dropout_5[0][0]                  \n",
      "__________________________________________________________________________________________________\n",
      "encoder_layer2_layernorm1 (Laye (None, None, 512)    1024        encoder_layer2_residual1[0][0]   \n",
      "__________________________________________________________________________________________________\n",
      "encoder_layer2_ffn1 (Dense)     (None, None, 512)    262656      encoder_layer2_layernorm1[0][0]  \n",
      "__________________________________________________________________________________________________\n",
      "encoder_layer2_ffn2 (Dense)     (None, None, 512)    262656      encoder_layer2_ffn1[0][0]        \n",
      "__________________________________________________________________________________________________\n",
      "dropout_6 (Dropout)             (None, None, 512)    0           encoder_layer2_ffn2[0][0]        \n",
      "__________________________________________________________________________________________________\n",
      "encoder_layer2_residual2 (Add)  (None, None, 512)    0           encoder_layer2_layernorm1[0][0]  \n",
      "                                                                 dropout_6[0][0]                  \n",
      "__________________________________________________________________________________________________\n",
      "encoder_layer2_layernorm2 (Laye (None, None, 512)    1024        encoder_layer2_residual2[0][0]   \n",
      "__________________________________________________________________________________________________\n",
      "encoder_layer3_mha (MultiHeadAt (None, None, 512)    262144      encoder_layer2_layernorm2[0][0]  \n",
      "__________________________________________________________________________________________________\n",
      "dropout_7 (Dropout)             (None, None, 512)    0           encoder_layer3_mha[0][0]         \n",
      "__________________________________________________________________________________________________\n",
      "encoder_layer3_residual1 (Add)  (None, None, 512)    0           encoder_layer2_layernorm2[0][0]  \n",
      "                                                                 dropout_7[0][0]                  \n",
      "__________________________________________________________________________________________________\n",
      "encoder_layer3_layernorm1 (Laye (None, None, 512)    1024        encoder_layer3_residual1[0][0]   \n",
      "__________________________________________________________________________________________________\n",
      "encoder_layer3_ffn1 (Dense)     (None, None, 512)    262656      encoder_layer3_layernorm1[0][0]  \n",
      "__________________________________________________________________________________________________\n",
      "encoder_layer3_ffn2 (Dense)     (None, None, 512)    262656      encoder_layer3_ffn1[0][0]        \n",
      "__________________________________________________________________________________________________\n",
      "dropout_8 (Dropout)             (None, None, 512)    0           encoder_layer3_ffn2[0][0]        \n",
      "__________________________________________________________________________________________________\n",
      "encoder_layer3_residual2 (Add)  (None, None, 512)    0           encoder_layer3_layernorm1[0][0]  \n",
      "                                                                 dropout_8[0][0]                  \n",
      "__________________________________________________________________________________________________\n",
      "encoder_layer3_layernorm2 (Laye (None, None, 512)    1024        encoder_layer3_residual2[0][0]   \n",
      "__________________________________________________________________________________________________\n",
      "encoder_layer4_mha (MultiHeadAt (None, None, 512)    262144      encoder_layer3_layernorm2[0][0]  \n",
      "__________________________________________________________________________________________________\n",
      "dropout_9 (Dropout)             (None, None, 512)    0           encoder_layer4_mha[0][0]         \n",
      "__________________________________________________________________________________________________\n",
      "encoder_layer4_residual1 (Add)  (None, None, 512)    0           encoder_layer3_layernorm2[0][0]  \n",
      "                                                                 dropout_9[0][0]                  \n",
      "__________________________________________________________________________________________________\n",
      "encoder_layer4_layernorm1 (Laye (None, None, 512)    1024        encoder_layer4_residual1[0][0]   \n",
      "__________________________________________________________________________________________________\n",
      "encoder_layer4_ffn1 (Dense)     (None, None, 512)    262656      encoder_layer4_layernorm1[0][0]  \n",
      "__________________________________________________________________________________________________\n",
      "encoder_layer4_ffn2 (Dense)     (None, None, 512)    262656      encoder_layer4_ffn1[0][0]        \n",
      "__________________________________________________________________________________________________\n",
      "dropout_10 (Dropout)            (None, None, 512)    0           encoder_layer4_ffn2[0][0]        \n",
      "__________________________________________________________________________________________________\n",
      "encoder_layer4_residual2 (Add)  (None, None, 512)    0           encoder_layer4_layernorm1[0][0]  \n",
      "                                                                 dropout_10[0][0]                 \n",
      "__________________________________________________________________________________________________\n",
      "encoder_layer4_layernorm2 (Laye (None, None, 512)    1024        encoder_layer4_residual2[0][0]   \n",
      "__________________________________________________________________________________________________\n",
      "encoder_layer5_mha (MultiHeadAt (None, None, 512)    262144      encoder_layer4_layernorm2[0][0]  \n",
      "__________________________________________________________________________________________________\n",
      "dropout_11 (Dropout)            (None, None, 512)    0           encoder_layer5_mha[0][0]         \n",
      "__________________________________________________________________________________________________\n",
      "encoder_layer5_residual1 (Add)  (None, None, 512)    0           encoder_layer4_layernorm2[0][0]  \n",
      "                                                                 dropout_11[0][0]                 \n",
      "__________________________________________________________________________________________________\n",
      "encoder_layer5_layernorm1 (Laye (None, None, 512)    1024        encoder_layer5_residual1[0][0]   \n",
      "__________________________________________________________________________________________________\n",
      "encoder_layer5_ffn1 (Dense)     (None, None, 512)    262656      encoder_layer5_layernorm1[0][0]  \n",
      "__________________________________________________________________________________________________\n",
      "encoder_layer5_ffn2 (Dense)     (None, None, 512)    262656      encoder_layer5_ffn1[0][0]        \n",
      "__________________________________________________________________________________________________\n",
      "dropout_12 (Dropout)            (None, None, 512)    0           encoder_layer5_ffn2[0][0]        \n",
      "__________________________________________________________________________________________________\n",
      "encoder_layer5_residual2 (Add)  (None, None, 512)    0           encoder_layer5_layernorm1[0][0]  \n",
      "                                                                 dropout_12[0][0]                 \n",
      "__________________________________________________________________________________________________\n",
      "encoder_layer5_layernorm2 (Laye (None, None, 512)    1024        encoder_layer5_residual2[0][0]   \n",
      "__________________________________________________________________________________________________\n",
      "encoder_layer6_mha (MultiHeadAt (None, None, 512)    262144      encoder_layer5_layernorm2[0][0]  \n",
      "__________________________________________________________________________________________________\n",
      "dropout_13 (Dropout)            (None, None, 512)    0           encoder_layer6_mha[0][0]         \n",
      "__________________________________________________________________________________________________\n",
      "encoder_layer6_residual1 (Add)  (None, None, 512)    0           encoder_layer5_layernorm2[0][0]  \n",
      "                                                                 dropout_13[0][0]                 \n",
      "__________________________________________________________________________________________________\n",
      "encoder_layer6_layernorm1 (Laye (None, None, 512)    1024        encoder_layer6_residual1[0][0]   \n",
      "__________________________________________________________________________________________________\n",
      "dropout_2 (Dropout)             (None, None, 512)    0           embedding_scalar[1][0]           \n",
      "__________________________________________________________________________________________________\n",
      "encoder_layer6_ffn1 (Dense)     (None, None, 512)    262656      encoder_layer6_layernorm1[0][0]  \n",
      "__________________________________________________________________________________________________\n",
      "decoder_layer1_mha1 (MultiHeadA (None, None, 512)    262144      dropout_2[0][0]                  \n",
      "__________________________________________________________________________________________________\n",
      "encoder_layer6_ffn2 (Dense)     (None, None, 512)    262656      encoder_layer6_ffn1[0][0]        \n",
      "__________________________________________________________________________________________________\n",
      "dropout_15 (Dropout)            (None, None, 512)    0           decoder_layer1_mha1[0][0]        \n",
      "__________________________________________________________________________________________________\n",
      "dropout_14 (Dropout)            (None, None, 512)    0           encoder_layer6_ffn2[0][0]        \n",
      "__________________________________________________________________________________________________\n",
      "decoder_layer1_residual1 (Add)  (None, None, 512)    0           dropout_2[0][0]                  \n",
      "                                                                 dropout_15[0][0]                 \n",
      "__________________________________________________________________________________________________\n",
      "encoder_layer6_residual2 (Add)  (None, None, 512)    0           encoder_layer6_layernorm1[0][0]  \n",
      "                                                                 dropout_14[0][0]                 \n",
      "__________________________________________________________________________________________________\n",
      "decoder_layer1_layernorm1 (Laye (None, None, 512)    1024        decoder_layer1_residual1[0][0]   \n",
      "__________________________________________________________________________________________________\n",
      "encoder_layer6_layernorm2 (Laye (None, None, 512)    1024        encoder_layer6_residual2[0][0]   \n",
      "__________________________________________________________________________________________________\n",
      "decoder_layer1_mha2 (MultiHeadA (None, None, 512)    262144      decoder_layer1_layernorm1[0][0]  \n",
      "                                                                 encoder_layer6_layernorm2[0][0]  \n",
      "                                                                 encoder_layer6_layernorm2[0][0]  \n",
      "__________________________________________________________________________________________________\n",
      "dropout_16 (Dropout)            (None, None, 512)    0           decoder_layer1_mha2[0][0]        \n",
      "__________________________________________________________________________________________________\n",
      "decoder_layer1_residual2 (Add)  (None, None, 512)    0           decoder_layer1_layernorm1[0][0]  \n",
      "                                                                 dropout_16[0][0]                 \n",
      "__________________________________________________________________________________________________\n",
      "decoder_layer1_layernorm2 (Laye (None, None, 512)    1024        decoder_layer1_residual2[0][0]   \n",
      "__________________________________________________________________________________________________\n",
      "decoder_layer1_ffn1 (Dense)     (None, None, 512)    262656      decoder_layer1_layernorm2[0][0]  \n",
      "__________________________________________________________________________________________________\n",
      "decoder_layer1_ffn2 (Dense)     (None, None, 512)    262656      decoder_layer1_ffn1[0][0]        \n",
      "__________________________________________________________________________________________________\n",
      "dropout_17 (Dropout)            (None, None, 512)    0           decoder_layer1_ffn2[0][0]        \n",
      "__________________________________________________________________________________________________\n",
      "decoder_layer1_residual3 (Add)  (None, None, 512)    0           decoder_layer1_layernorm2[0][0]  \n",
      "                                                                 dropout_17[0][0]                 \n",
      "__________________________________________________________________________________________________\n",
      "decoder_layer1_layernorm3 (Laye (None, None, 512)    1024        decoder_layer1_residual3[0][0]   \n",
      "__________________________________________________________________________________________________\n",
      "decoder_layer2_mha1 (MultiHeadA (None, None, 512)    262144      decoder_layer1_layernorm3[0][0]  \n",
      "__________________________________________________________________________________________________\n",
      "dropout_18 (Dropout)            (None, None, 512)    0           decoder_layer2_mha1[0][0]        \n",
      "__________________________________________________________________________________________________\n",
      "decoder_layer2_residual1 (Add)  (None, None, 512)    0           decoder_layer1_layernorm3[0][0]  \n",
      "                                                                 dropout_18[0][0]                 \n",
      "__________________________________________________________________________________________________\n",
      "decoder_layer2_layernorm1 (Laye (None, None, 512)    1024        decoder_layer2_residual1[0][0]   \n",
      "__________________________________________________________________________________________________\n",
      "decoder_layer2_mha2 (MultiHeadA (None, None, 512)    262144      decoder_layer2_layernorm1[0][0]  \n",
      "                                                                 encoder_layer6_layernorm2[0][0]  \n",
      "                                                                 encoder_layer6_layernorm2[0][0]  \n",
      "__________________________________________________________________________________________________\n",
      "dropout_19 (Dropout)            (None, None, 512)    0           decoder_layer2_mha2[0][0]        \n",
      "__________________________________________________________________________________________________\n",
      "decoder_layer2_residual2 (Add)  (None, None, 512)    0           decoder_layer2_layernorm1[0][0]  \n",
      "                                                                 dropout_19[0][0]                 \n",
      "__________________________________________________________________________________________________\n",
      "decoder_layer2_layernorm2 (Laye (None, None, 512)    1024        decoder_layer2_residual2[0][0]   \n",
      "__________________________________________________________________________________________________\n",
      "decoder_layer2_ffn1 (Dense)     (None, None, 512)    262656      decoder_layer2_layernorm2[0][0]  \n",
      "__________________________________________________________________________________________________\n",
      "decoder_layer2_ffn2 (Dense)     (None, None, 512)    262656      decoder_layer2_ffn1[0][0]        \n",
      "__________________________________________________________________________________________________\n",
      "dropout_20 (Dropout)            (None, None, 512)    0           decoder_layer2_ffn2[0][0]        \n",
      "__________________________________________________________________________________________________\n",
      "decoder_layer2_residual3 (Add)  (None, None, 512)    0           decoder_layer2_layernorm2[0][0]  \n",
      "                                                                 dropout_20[0][0]                 \n",
      "__________________________________________________________________________________________________\n",
      "decoder_layer2_layernorm3 (Laye (None, None, 512)    1024        decoder_layer2_residual3[0][0]   \n",
      "__________________________________________________________________________________________________\n",
      "decoder_layer3_mha1 (MultiHeadA (None, None, 512)    262144      decoder_layer2_layernorm3[0][0]  \n",
      "__________________________________________________________________________________________________\n",
      "dropout_21 (Dropout)            (None, None, 512)    0           decoder_layer3_mha1[0][0]        \n",
      "__________________________________________________________________________________________________\n",
      "decoder_layer3_residual1 (Add)  (None, None, 512)    0           decoder_layer2_layernorm3[0][0]  \n",
      "                                                                 dropout_21[0][0]                 \n",
      "__________________________________________________________________________________________________\n",
      "decoder_layer3_layernorm1 (Laye (None, None, 512)    1024        decoder_layer3_residual1[0][0]   \n",
      "__________________________________________________________________________________________________\n",
      "decoder_layer3_mha2 (MultiHeadA (None, None, 512)    262144      decoder_layer3_layernorm1[0][0]  \n",
      "                                                                 encoder_layer6_layernorm2[0][0]  \n",
      "                                                                 encoder_layer6_layernorm2[0][0]  \n",
      "__________________________________________________________________________________________________\n",
      "dropout_22 (Dropout)            (None, None, 512)    0           decoder_layer3_mha2[0][0]        \n",
      "__________________________________________________________________________________________________\n",
      "decoder_layer3_residual2 (Add)  (None, None, 512)    0           decoder_layer3_layernorm1[0][0]  \n",
      "                                                                 dropout_22[0][0]                 \n",
      "__________________________________________________________________________________________________\n",
      "decoder_layer3_layernorm2 (Laye (None, None, 512)    1024        decoder_layer3_residual2[0][0]   \n",
      "__________________________________________________________________________________________________\n",
      "decoder_layer3_ffn1 (Dense)     (None, None, 512)    262656      decoder_layer3_layernorm2[0][0]  \n",
      "__________________________________________________________________________________________________\n",
      "decoder_layer3_ffn2 (Dense)     (None, None, 512)    262656      decoder_layer3_ffn1[0][0]        \n",
      "__________________________________________________________________________________________________\n",
      "dropout_23 (Dropout)            (None, None, 512)    0           decoder_layer3_ffn2[0][0]        \n",
      "__________________________________________________________________________________________________\n",
      "decoder_layer3_residual3 (Add)  (None, None, 512)    0           decoder_layer3_layernorm2[0][0]  \n",
      "                                                                 dropout_23[0][0]                 \n",
      "__________________________________________________________________________________________________\n",
      "decoder_layer3_layernorm3 (Laye (None, None, 512)    1024        decoder_layer3_residual3[0][0]   \n",
      "__________________________________________________________________________________________________\n",
      "decoder_layer4_mha1 (MultiHeadA (None, None, 512)    262144      decoder_layer3_layernorm3[0][0]  \n",
      "__________________________________________________________________________________________________\n",
      "dropout_24 (Dropout)            (None, None, 512)    0           decoder_layer4_mha1[0][0]        \n",
      "__________________________________________________________________________________________________\n",
      "decoder_layer4_residual1 (Add)  (None, None, 512)    0           decoder_layer3_layernorm3[0][0]  \n",
      "                                                                 dropout_24[0][0]                 \n",
      "__________________________________________________________________________________________________\n",
      "decoder_layer4_layernorm1 (Laye (None, None, 512)    1024        decoder_layer4_residual1[0][0]   \n",
      "__________________________________________________________________________________________________\n",
      "decoder_layer4_mha2 (MultiHeadA (None, None, 512)    262144      decoder_layer4_layernorm1[0][0]  \n",
      "                                                                 encoder_layer6_layernorm2[0][0]  \n",
      "                                                                 encoder_layer6_layernorm2[0][0]  \n",
      "__________________________________________________________________________________________________\n",
      "dropout_25 (Dropout)            (None, None, 512)    0           decoder_layer4_mha2[0][0]        \n",
      "__________________________________________________________________________________________________\n",
      "decoder_layer4_residual2 (Add)  (None, None, 512)    0           decoder_layer4_layernorm1[0][0]  \n",
      "                                                                 dropout_25[0][0]                 \n",
      "__________________________________________________________________________________________________\n",
      "decoder_layer4_layernorm2 (Laye (None, None, 512)    1024        decoder_layer4_residual2[0][0]   \n",
      "__________________________________________________________________________________________________\n",
      "decoder_layer4_ffn1 (Dense)     (None, None, 512)    262656      decoder_layer4_layernorm2[0][0]  \n",
      "__________________________________________________________________________________________________\n",
      "decoder_layer4_ffn2 (Dense)     (None, None, 512)    262656      decoder_layer4_ffn1[0][0]        \n",
      "__________________________________________________________________________________________________\n",
      "dropout_26 (Dropout)            (None, None, 512)    0           decoder_layer4_ffn2[0][0]        \n",
      "__________________________________________________________________________________________________\n",
      "decoder_layer4_residual3 (Add)  (None, None, 512)    0           decoder_layer4_layernorm2[0][0]  \n",
      "                                                                 dropout_26[0][0]                 \n",
      "__________________________________________________________________________________________________\n",
      "decoder_layer4_layernorm3 (Laye (None, None, 512)    1024        decoder_layer4_residual3[0][0]   \n",
      "__________________________________________________________________________________________________\n",
      "decoder_layer5_mha1 (MultiHeadA (None, None, 512)    262144      decoder_layer4_layernorm3[0][0]  \n",
      "__________________________________________________________________________________________________\n",
      "dropout_27 (Dropout)            (None, None, 512)    0           decoder_layer5_mha1[0][0]        \n",
      "__________________________________________________________________________________________________\n",
      "decoder_layer5_residual1 (Add)  (None, None, 512)    0           decoder_layer4_layernorm3[0][0]  \n",
      "                                                                 dropout_27[0][0]                 \n",
      "__________________________________________________________________________________________________\n",
      "decoder_layer5_layernorm1 (Laye (None, None, 512)    1024        decoder_layer5_residual1[0][0]   \n",
      "__________________________________________________________________________________________________\n",
      "decoder_layer5_mha2 (MultiHeadA (None, None, 512)    262144      decoder_layer5_layernorm1[0][0]  \n",
      "                                                                 encoder_layer6_layernorm2[0][0]  \n",
      "                                                                 encoder_layer6_layernorm2[0][0]  \n",
      "__________________________________________________________________________________________________\n",
      "dropout_28 (Dropout)            (None, None, 512)    0           decoder_layer5_mha2[0][0]        \n",
      "__________________________________________________________________________________________________\n",
      "decoder_layer5_residual2 (Add)  (None, None, 512)    0           decoder_layer5_layernorm1[0][0]  \n",
      "                                                                 dropout_28[0][0]                 \n",
      "__________________________________________________________________________________________________\n",
      "decoder_layer5_layernorm2 (Laye (None, None, 512)    1024        decoder_layer5_residual2[0][0]   \n",
      "__________________________________________________________________________________________________\n",
      "decoder_layer5_ffn1 (Dense)     (None, None, 512)    262656      decoder_layer5_layernorm2[0][0]  \n",
      "__________________________________________________________________________________________________\n",
      "decoder_layer5_ffn2 (Dense)     (None, None, 512)    262656      decoder_layer5_ffn1[0][0]        \n",
      "__________________________________________________________________________________________________\n",
      "dropout_29 (Dropout)            (None, None, 512)    0           decoder_layer5_ffn2[0][0]        \n",
      "__________________________________________________________________________________________________\n",
      "decoder_layer5_residual3 (Add)  (None, None, 512)    0           decoder_layer5_layernorm2[0][0]  \n",
      "                                                                 dropout_29[0][0]                 \n",
      "__________________________________________________________________________________________________\n",
      "decoder_layer5_layernorm3 (Laye (None, None, 512)    1024        decoder_layer5_residual3[0][0]   \n",
      "__________________________________________________________________________________________________\n",
      "decoder_layer6_mha1 (MultiHeadA (None, None, 512)    262144      decoder_layer5_layernorm3[0][0]  \n",
      "__________________________________________________________________________________________________\n",
      "dropout_30 (Dropout)            (None, None, 512)    0           decoder_layer6_mha1[0][0]        \n",
      "__________________________________________________________________________________________________\n",
      "decoder_layer6_residual1 (Add)  (None, None, 512)    0           decoder_layer5_layernorm3[0][0]  \n",
      "                                                                 dropout_30[0][0]                 \n",
      "__________________________________________________________________________________________________\n",
      "decoder_layer6_layernorm1 (Laye (None, None, 512)    1024        decoder_layer6_residual1[0][0]   \n",
      "__________________________________________________________________________________________________\n",
      "decoder_layer6_mha2 (MultiHeadA (None, None, 512)    262144      decoder_layer6_layernorm1[0][0]  \n",
      "                                                                 encoder_layer6_layernorm2[0][0]  \n",
      "                                                                 encoder_layer6_layernorm2[0][0]  \n",
      "__________________________________________________________________________________________________\n",
      "dropout_31 (Dropout)            (None, None, 512)    0           decoder_layer6_mha2[0][0]        \n",
      "__________________________________________________________________________________________________\n",
      "decoder_layer6_residual2 (Add)  (None, None, 512)    0           decoder_layer6_layernorm1[0][0]  \n",
      "                                                                 dropout_31[0][0]                 \n",
      "__________________________________________________________________________________________________\n",
      "decoder_layer6_layernorm2 (Laye (None, None, 512)    1024        decoder_layer6_residual2[0][0]   \n",
      "__________________________________________________________________________________________________\n",
      "decoder_layer6_ffn1 (Dense)     (None, None, 512)    262656      decoder_layer6_layernorm2[0][0]  \n",
      "__________________________________________________________________________________________________\n",
      "decoder_layer6_ffn2 (Dense)     (None, None, 512)    262656      decoder_layer6_ffn1[0][0]        \n",
      "__________________________________________________________________________________________________\n",
      "dropout_32 (Dropout)            (None, None, 512)    0           decoder_layer6_ffn2[0][0]        \n",
      "__________________________________________________________________________________________________\n",
      "decoder_layer6_residual3 (Add)  (None, None, 512)    0           decoder_layer6_layernorm2[0][0]  \n",
      "                                                                 dropout_32[0][0]                 \n",
      "__________________________________________________________________________________________________\n",
      "decoder_layer6_layernorm3 (Laye (None, None, 512)    1024        decoder_layer6_residual3[0][0]   \n",
      "__________________________________________________________________________________________________\n",
      "shared_weights_1 (SharedWeights (None, None, 10001)  0           decoder_layer6_layernorm3[0][0]  \n",
      "==================================================================================================\n",
      "Total params: 16,173,568\n",
      "Trainable params: 16,173,568\n",
      "Non-trainable params: 0\n",
      "__________________________________________________________________________________________________\n"
     ]
    }
   ],
   "source": [
    "model.summary()"
   ]
  },
  {
   "cell_type": "code",
   "execution_count": 40,
   "metadata": {},
   "outputs": [],
   "source": [
    "TARGET_PLACEHOLDER = tf.placeholder(dtype='int32', shape=(None, SENTENCE_LEN))\n",
    "model.compile(\n",
    "    loss=LOSS,\n",
    "    optimizer=OPTIMIZER,\n",
    "#    metrics=METRICS,\n",
    "    target_tensors=[TARGET_PLACEHOLDER],\n",
    ")"
   ]
  },
  {
   "cell_type": "code",
   "execution_count": 41,
   "metadata": {},
   "outputs": [
    {
     "name": "stdout",
     "output_type": "stream",
     "text": [
      "perplexity:    10001.00000000001\tentropy:    9.210440366976517\n",
      "perplexity:    8103.083927575384\tentropy:                    9\n",
      "perplexity:   2980.9579870417283\tentropy:                    8\n",
      "perplexity:   1096.6331584284585\tentropy:                    7\n",
      "perplexity:    403.4287934927351\tentropy:                    6\n",
      "perplexity:    148.4131591025766\tentropy:                    5\n",
      "perplexity:   54.598150033144236\tentropy:                    4\n",
      "perplexity:   20.085536923187668\tentropy:                    3\n",
      "perplexity:     7.38905609893065\tentropy:                    2\n",
      "perplexity:    2.718281828459045\tentropy:                    1\n",
      "perplexity:                  1.0\tentropy:                    0\n"
     ]
    }
   ],
   "source": [
    "# print loss values for reference\n",
    "def display_loss_reference():\n",
    "    format_ = 'perplexity: %20s\\tentropy: %20s'\n",
    "    upper_limit = np.log(VOCAB_SIZE)\n",
    "    print(format_ % (np.exp(upper_limit), upper_limit))\n",
    "    for i in reversed(range(int(np.floor(upper_limit))+1)):\n",
    "        print(format_ % (np.exp(i), i))\n",
    "display_loss_reference()"
   ]
  },
  {
   "cell_type": "code",
   "execution_count": null,
   "metadata": {},
   "outputs": [],
   "source": [
    "# display entropy, perplexity reference\n",
    "max_entropy = np.log(VOCAB_SIZE)\n",
    "entropy = np.array(list(range(np.ceil(max_entropy))) + [max_entropy])\n",
    "pd.DataFrame({'perplexity': np.exp(entropy), 'entropy': entropy})"
   ]
  },
  {
   "cell_type": "code",
   "execution_count": null,
   "metadata": {
    "scrolled": true
   },
   "outputs": [
    {
     "name": "stdout",
     "output_type": "stream",
     "text": [
      "Epoch 1/30\n",
      " 9999/10000 [============================>.] - ETA: 0s - loss: 9.2026exhausted `items`, repeating\n",
      "10000/10000 [==============================] - 2816s 282ms/step - loss: 9.2026 - val_loss: 9.1749\n",
      "Epoch 2/30\n",
      " 9999/10000 [============================>.] - ETA: 0s - loss: 9.1487exhausted `items`, repeating\n",
      "10000/10000 [==============================] - 2804s 280ms/step - loss: 9.1487 - val_loss: 9.1109\n",
      "Epoch 3/30\n",
      " 9999/10000 [============================>.] - ETA: 0s - loss: 9.0869exhausted `items`, repeating\n",
      "10000/10000 [==============================] - 2806s 281ms/step - loss: 9.0869 - val_loss: 9.0453\n",
      "Epoch 4/30\n",
      " 9999/10000 [============================>.] - ETA: 0s - loss: 9.0249exhausted `items`, repeating\n",
      "10000/10000 [==============================] - 2808s 281ms/step - loss: 9.0249 - val_loss: 8.9807\n",
      "Epoch 5/30\n",
      " 9999/10000 [============================>.] - ETA: 0s - loss: 8.9640exhausted `items`, repeating\n",
      "10000/10000 [==============================] - 2806s 281ms/step - loss: 8.9640 - val_loss: 8.9178\n",
      "Epoch 6/30\n",
      " 3513/10000 [=========>....................] - ETA: 30:16 - loss: 8.9227exhausted `items`, repeating\n",
      " 9999/10000 [============================>.] - ETA: 0s - loss: 8.9021exhausted `items`, repeating\n",
      "10000/10000 [==============================] - 2815s 281ms/step - loss: 8.9021 - val_loss: 8.8528\n",
      "Epoch 7/30\n",
      " 9999/10000 [============================>.] - ETA: 0s - loss: 8.8359exhausted `items`, repeating\n",
      "10000/10000 [==============================] - 2812s 281ms/step - loss: 8.8358 - val_loss: 8.7813\n",
      "Epoch 8/30\n",
      " 9999/10000 [============================>.] - ETA: 0s - loss: 8.7607exhausted `items`, repeating\n",
      "10000/10000 [==============================] - 2809s 281ms/step - loss: 8.7607 - val_loss: 8.7010\n",
      "Epoch 9/30\n",
      " 9999/10000 [============================>.] - ETA: 0s - loss: 8.6759exhausted `items`, repeating\n",
      "10000/10000 [==============================] - 2815s 281ms/step - loss: 8.6759 - val_loss: 8.6099\n",
      "Epoch 10/30\n",
      " 9999/10000 [============================>.] - ETA: 0s - loss: 8.5804exhausted `items`, repeating\n",
      "10000/10000 [==============================] - 2796s 280ms/step - loss: 8.5804 - val_loss: 8.5077\n",
      "Epoch 11/30\n",
      " 7036/10000 [====================>.........] - ETA: 13:48 - loss: 8.4899exhausted `items`, repeating\n",
      " 9999/10000 [============================>.] - ETA: 0s - loss: 8.4730exhausted `items`, repeating\n",
      "10000/10000 [==============================] - 2815s 281ms/step - loss: 8.4730 - val_loss: 8.3940\n",
      "Epoch 12/30\n",
      " 9999/10000 [============================>.] - ETA: 0s - loss: 8.3546exhausted `items`, repeating\n",
      "10000/10000 [==============================] - 2795s 279ms/step - loss: 8.3546 - val_loss: 8.2692\n",
      "Epoch 13/30\n",
      " 9999/10000 [============================>.] - ETA: 0s - loss: 8.2250exhausted `items`, repeating\n",
      "10000/10000 [==============================] - 2801s 280ms/step - loss: 8.2250 - val_loss: 8.1352\n",
      "Epoch 14/30\n",
      " 9999/10000 [============================>.] - ETA: 0s - loss: 8.0886exhausted `items`, repeating\n",
      "10000/10000 [==============================] - 2803s 280ms/step - loss: 8.0886 - val_loss: 7.9946\n",
      "Epoch 15/30\n",
      " 9999/10000 [============================>.] - ETA: 0s - loss: 7.9458exhausted `items`, repeating\n",
      "10000/10000 [==============================] - 2795s 280ms/step - loss: 7.9458 - val_loss: 7.8510\n",
      "Epoch 16/30\n",
      " 9999/10000 [============================>.] - ETA: 0s - loss: 7.8036exhausted `items`, repeating\n",
      "10000/10000 [==============================] - 2806s 281ms/step - loss: 7.8036 - val_loss: 7.7109\n",
      "Epoch 17/30\n",
      "  559/10000 [>.............................] - ETA: 44:28 - loss: 7.7311exhausted `items`, repeating\n",
      " 9999/10000 [============================>.] - ETA: 0s - loss: 7.6666exhausted `items`, repeating\n",
      "10000/10000 [==============================] - 2799s 280ms/step - loss: 7.6666 - val_loss: 7.5824\n",
      "Epoch 18/30\n",
      " 9999/10000 [============================>.] - ETA: 0s - loss: 7.5466exhausted `items`, repeating\n",
      "10000/10000 [==============================] - 2800s 280ms/step - loss: 7.5466 - val_loss: 7.4776\n",
      "Epoch 19/30\n",
      " 9999/10000 [============================>.] - ETA: 0s - loss: 7.4543exhausted `items`, repeating\n",
      "10000/10000 [==============================] - 2803s 280ms/step - loss: 7.4542 - val_loss: 7.4068\n",
      "Epoch 20/30\n",
      " 3640/10000 [=========>....................] - ETA: 29:32 - loss: 7.4086"
     ]
    }
   ],
   "source": [
    "model.fit_generator(\n",
    "    TRAIN_GEN,\n",
    "    steps_per_epoch=N_TRAIN_STEPS,\n",
    "    epochs=N_EPOCHS,\n",
    "    validation_data=TEST_GEN,\n",
    "    validation_steps=N_VALIDATION_STEPS,\n",
    "    callbacks=CALLBACKS)"
   ]
  }
 ],
 "metadata": {
  "kernelspec": {
   "display_name": "Python 3",
   "language": "python",
   "name": "python3"
  },
  "language_info": {
   "codemirror_mode": {
    "name": "ipython",
    "version": 3
   },
   "file_extension": ".py",
   "mimetype": "text/x-python",
   "name": "python",
   "nbconvert_exporter": "python",
   "pygments_lexer": "ipython3",
   "version": "3.6.6"
  }
 },
 "nbformat": 4,
 "nbformat_minor": 1
}
