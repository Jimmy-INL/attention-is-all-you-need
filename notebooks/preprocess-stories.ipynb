{
 "cells": [
  {
   "cell_type": "markdown",
   "metadata": {},
   "source": [
    "Preprocess the raw CNN/Dailymail story files.\n",
    "\n",
    "1. Build summary from highlights.\n",
    "2. Write story and summary to a single file where the story and summary are separated by a tab.\n",
    "\n",
    "The data can be obtained from:\n",
    "\n",
    "https://github.com/JafferWilson/Process-Data-of-CNN-DailyMail\n",
    "\n",
    "Parameters:\n",
    "\n",
    "- DATA_DIRECTORIES: The directories containing stories to process.\n",
    "- OUTPUT_DIR: Where the processed stories will be stored.\n",
    "- MAX_SUMMARY_SENTENCES: The maximum number of highlights used to make the summary.\n",
    "- EXTENSION: The file extension to use for the processed stories."
   ]
  },
  {
   "cell_type": "markdown",
   "metadata": {},
   "source": [
    "## Parameters"
   ]
  },
  {
   "cell_type": "code",
   "execution_count": 1,
   "metadata": {},
   "outputs": [],
   "source": [
    "DATA_DIRECTORIES = ['../cnn/stories', '../dailymail/stories']\n",
    "OUTPUT_DIR = '../data/preprocessed_stories'\n",
    "MAX_SUMMARY_SENTENCES = 2\n",
    "EXTENSION = 'clean'"
   ]
  },
  {
   "cell_type": "markdown",
   "metadata": {},
   "source": [
    "## Get data files"
   ]
  },
  {
   "cell_type": "code",
   "execution_count": 2,
   "metadata": {},
   "outputs": [],
   "source": [
    "import glob\n",
    "import os"
   ]
  },
  {
   "cell_type": "code",
   "execution_count": 3,
   "metadata": {},
   "outputs": [],
   "source": [
    "FILES = []\n",
    "for directory in DATA_DIRECTORIES:\n",
    "    stories = glob.glob(os.path.join(directory, '*'))\n",
    "    FILES.extend(stories)"
   ]
  },
  {
   "cell_type": "code",
   "execution_count": 4,
   "metadata": {},
   "outputs": [
    {
     "data": {
      "text/plain": [
       "312085"
      ]
     },
     "execution_count": 4,
     "metadata": {},
     "output_type": "execute_result"
    }
   ],
   "source": [
    "len(FILES)"
   ]
  },
  {
   "cell_type": "code",
   "execution_count": 5,
   "metadata": {},
   "outputs": [
    {
     "data": {
      "text/plain": [
       "['../cnn/stories/0001d1afc246a7964130f43ae940af6bc6c57f01.story',\n",
       " '../cnn/stories/0002095e55fcbd3a2f366d9bf92a95433dc305ef.story',\n",
       " '../cnn/stories/00027e965c8264c35cc1bc55556db388da82b07f.story',\n",
       " '../cnn/stories/0002c17436637c4fe1837c935c04de47adb18e9a.story',\n",
       " '../cnn/stories/0003ad6ef0c37534f80b55b4235108024b407f0b.story',\n",
       " '../cnn/stories/0004306354494f090ee2d7bc5ddbf80b63e80de6.story',\n",
       " '../cnn/stories/0005d61497d21ff37a17751829bd7e3b6e4a7c5c.story',\n",
       " '../cnn/stories/0006021f772fad0aa78a977ce4a31b3faa6e6fe5.story',\n",
       " '../cnn/stories/00083697263e215e5e7eda753070f08aa374dd45.story',\n",
       " '../cnn/stories/000940f2bb357ac04a236a232156d8b9b18d1667.story']"
      ]
     },
     "execution_count": 5,
     "metadata": {},
     "output_type": "execute_result"
    }
   ],
   "source": [
    "FILES[:10]"
   ]
  },
  {
   "cell_type": "markdown",
   "metadata": {},
   "source": [
    "## Build story parser"
   ]
  },
  {
   "cell_type": "code",
   "execution_count": 6,
   "metadata": {},
   "outputs": [],
   "source": [
    "import os\n",
    "def parse(file, max_summary_sentences=None):\n",
    "    with open(file) as f:\n",
    "        file_id = os.path.basename(file).partition('.')[0]\n",
    "        content = f.read()\n",
    "        content = content.replace('\\t', '<tab>')\n",
    "        context, *highlights = content.split('@highlight')\n",
    "        if max_summary_sentences is not None:\n",
    "            highlights = highlights[:max_summary_sentences]\n",
    "        summary = ' . '.join(highlights) + ' .'\n",
    "        return file_id, context.strip(), summary.strip()"
   ]
  },
  {
   "cell_type": "code",
   "execution_count": 7,
   "metadata": {},
   "outputs": [
    {
     "name": "stderr",
     "output_type": "stream",
     "text": [
      "100%|██████████| 312085/312085 [02:32<00:00, 2050.34it/s]\n"
     ]
    }
   ],
   "source": [
    "import tqdm\n",
    "summaries = [parse(f, MAX_SUMMARY_SENTENCES) for f in tqdm.tqdm(FILES)]"
   ]
  },
  {
   "cell_type": "code",
   "execution_count": 8,
   "metadata": {
    "scrolled": true
   },
   "outputs": [
    {
     "data": {
      "text/plain": [
       "('0001d1afc246a7964130f43ae940af6bc6c57f01',\n",
       " 'It\\'s official: U.S. President Barack Obama wants lawmakers to weigh in on whether to use military force in Syria.\\n\\nObama sent a letter to the heads of the House and Senate on Saturday night, hours after announcing that he believes military action against Syrian targets is the right step to take over the alleged use of chemical weapons.\\n\\nThe proposed legislation from Obama asks Congress to approve the use of military force \"to deter, disrupt, prevent and degrade the potential for future uses of chemical weapons or other weapons of mass destruction.\"\\n\\nIt\\'s a step that is set to turn an international crisis into a fierce domestic political battle.\\n\\nThere are key questions looming over the debate: What did U.N. weapons inspectors find in Syria? What happens if Congress votes no? And how will the Syrian government react?\\n\\nIn a televised address from the White House Rose Garden earlier Saturday, the president said he would take his case to Congress, not because he has to -- but because he wants to.\\n\\n\"While I believe I have the authority to carry out this military action without specific congressional authorization, I know that the country will be stronger if we take this course, and our actions will be even more effective,\" he said. \"We should have this debate, because the issues are too big for business as usual.\"\\n\\nObama said top congressional leaders had agreed to schedule a debate when the body returns to Washington on September 9. The Senate Foreign Relations Committee will hold a hearing over the matter on Tuesday, Sen. Robert Menendez said.\\n\\nTranscript: Read Obama\\'s full remarks\\n\\nSyrian crisis: Latest developments\\n\\nU.N. inspectors leave Syria\\n\\nObama\\'s remarks came shortly after U.N. inspectors left Syria, carrying evidence that will determine whether chemical weapons were used in an attack early last week in a Damascus suburb.\\n\\n\"The aim of the game here, the mandate, is very clear -- and that is to ascertain whether chemical weapons were used -- and not by whom,\" U.N. spokesman Martin Nesirky told reporters on Saturday.\\n\\nBut who used the weapons in the reported toxic gas attack in a Damascus suburb on August 21 has been a key point of global debate over the Syrian crisis.\\n\\nTop U.S. officials have said there\\'s no doubt that the Syrian government was behind it, while Syrian officials have denied responsibility and blamed jihadists fighting with the rebels.\\n\\nBritish and U.S. intelligence reports say the attack involved chemical weapons, but U.N. officials have stressed the importance of waiting for an official report from inspectors.\\n\\nThe inspectors will share their findings with U.N. Secretary-General Ban Ki-moon Ban, who has said he wants to wait until the U.N. team\\'s final report is completed before presenting it to the U.N. Security Council.\\n\\nThe Organization for the Prohibition of Chemical Weapons, which nine of the inspectors belong to, said Saturday that it could take up to three weeks to analyze the evidence they collected.\\n\\n\"It needs time to be able to analyze the information and the samples,\" Nesirky said.\\n\\nHe noted that Ban has repeatedly said there is no alternative to a political solution to the crisis in Syria, and that \"a military solution is not an option.\"\\n\\nBergen:  Syria is a problem from hell for the U.S.\\n\\nObama: \\'This menace must be confronted\\'\\n\\nObama\\'s senior advisers have debated the next steps to take, and the president\\'s comments Saturday came amid mounting political pressure over the situation in Syria. Some U.S. lawmakers have called for immediate action while others warn of stepping into what could become a quagmire.\\n\\nSome global leaders have expressed support, but the British Parliament\\'s vote against military action earlier this week was a blow to Obama\\'s hopes of getting strong backing from key NATO allies.\\n\\nOn Saturday, Obama proposed what he said would be a limited military action against Syrian President Bashar al-Assad. Any military attack would not be open-ended or include U.S. ground forces, he said.\\n\\nSyria\\'s alleged use of chemical weapons earlier this month \"is an assault on human dignity,\" the president said.\\n\\nA failure to respond with force, Obama argued,  \"could lead to escalating use of chemical weapons or their proliferation to terrorist groups who would do our people harm. In a world with many dangers, this menace must be confronted.\"\\n\\nSyria missile strike: What would happen next?\\n\\nMap: U.S. and allied assets around Syria\\n\\nObama decision came Friday night\\n\\nOn Friday night, the president made a last-minute decision to consult lawmakers.\\n\\nWhat will happen if they vote no?\\n\\nIt\\'s unclear. A senior administration official told CNN that Obama has the authority to act without Congress -- even if Congress rejects his request for authorization to use force.\\n\\nObama on Saturday continued to shore up support for a strike on the al-Assad government.\\n\\nHe spoke by phone with French President Francois Hollande before his Rose Garden speech.\\n\\n\"The two leaders agreed that the international community must deliver a resolute message to the Assad regime -- and others who would consider using chemical weapons -- that these crimes are unacceptable and those who violate this international norm will be held accountable by the world,\" the White House said.\\n\\nMeanwhile, as uncertainty loomed over how Congress would weigh in, U.S. military officials said they remained at the ready.\\n\\n5 key assertions: U.S. intelligence report on Syria\\n\\nSyria: Who wants what after chemical weapons horror\\n\\nReactions mixed to Obama\\'s speech\\n\\nA spokesman for the Syrian National Coalition said that the opposition group was disappointed by Obama\\'s announcement.\\n\\n\"Our fear now is that the lack of action could embolden the regime and they repeat his attacks in a more serious way,\" said spokesman Louay Safi. \"So we are quite concerned.\"\\n\\nSome members of Congress applauded Obama\\'s decision.\\n\\nHouse Speaker John Boehner, Majority Leader Eric Cantor, Majority Whip Kevin McCarthy and Conference Chair Cathy McMorris Rodgers issued a statement Saturday praising the president.\\n\\n\"Under the Constitution, the responsibility to declare war lies with Congress,\" the Republican lawmakers said. \"We are glad the president is seeking authorization for any military action in Syria in response to serious, substantive questions being raised.\"\\n\\nMore than 160 legislators, including 63 of Obama\\'s fellow Democrats, had signed letters calling for either a vote or at least a \"full debate\" before any U.S. action.\\n\\nBritish Prime Minister David Cameron, whose own attempt to get lawmakers in his country to support military action in Syria failed earlier this week, responded to Obama\\'s speech in a Twitter post Saturday.\\n\\n\"I understand and support Barack Obama\\'s position on Syria,\" Cameron said.\\n\\nAn influential lawmaker in Russia -- which has stood by Syria and criticized the United States -- had his own theory.\\n\\n\"The main reason Obama is turning to the Congress:  the military operation did not get enough support either in the world, among allies of the US or in the United States itself,\" Alexei Pushkov, chairman of the international-affairs committee of the Russian State Duma, said in a Twitter post.\\n\\nIn the United States, scattered groups of anti-war protesters around the country took to the streets Saturday.\\n\\n\"Like many other Americans...we\\'re just tired of the United States getting involved and invading and bombing other countries,\" said Robin Rosecrans, who was among hundreds at a Los Angeles demonstration.\\n\\nWhat do Syria\\'s neighbors think?\\n\\nWhy Russia, China, Iran stand by Assad\\n\\nSyria\\'s government unfazed\\n\\nAfter Obama\\'s speech, a military and political analyst on Syrian state TV said Obama is \"embarrassed\" that Russia opposes military action against Syria, is \"crying for help\" for someone to come to his rescue and is facing two defeats -- on the political and military levels.\\n\\nSyria\\'s prime minister appeared unfazed by the saber-rattling.\\n\\n\"The Syrian Army\\'s status is on maximum readiness and fingers are on the trigger to confront all challenges,\" Wael Nader al-Halqi said during a meeting with a delegation of Syrian expatriates from Italy, according to a banner on Syria State TV that was broadcast prior to Obama\\'s address.\\n\\nAn anchor on Syrian state television said Obama \"appeared to be preparing for an aggression on Syria based on repeated lies.\"\\n\\nA top Syrian diplomat told the state television network that Obama was facing pressure to take military action from Israel, Turkey, some Arabs and right-wing extremists in the United States.\\n\\n\"I think he has done well by doing what Cameron did in terms of taking the issue to Parliament,\" said Bashar Jaafari, Syria\\'s ambassador to the United Nations.\\n\\nBoth Obama and Cameron, he said, \"climbed to the top of the tree and don\\'t know how to get down.\"\\n\\nThe Syrian government has denied that it used chemical weapons in the August 21 attack, saying that jihadists fighting with the rebels used them in an effort to turn global sentiments against it.\\n\\nBritish intelligence had put the number of people killed in the attack at more than 350.\\n\\nOn Saturday, Obama said \"all told, well over 1,000 people were murdered.\" U.S. Secretary of State John Kerry on Friday cited a death toll of 1,429, more than 400 of them children. No explanation was offered for the discrepancy.\\n\\nIran: U.S. military action in Syria would spark \\'disaster\\'\\n\\nOpinion: Why strikes in Syria are a bad idea',\n",
       " 'Syrian official: Obama climbed to the top of the tree, \"doesn\\'t know how to get down\"\\n\\n . \\n\\nObama sends a letter to the heads of the House and Senate\\n\\n .')"
      ]
     },
     "execution_count": 8,
     "metadata": {},
     "output_type": "execute_result"
    }
   ],
   "source": [
    "summaries[0]"
   ]
  },
  {
   "cell_type": "markdown",
   "metadata": {},
   "source": [
    "## Calculate some basic statistics on data\n",
    "\n",
    "Summary stats should match (when there is no limit placed on summary length and new lines are not split out)\n",
    "\n",
    "\"The source documents in the training\n",
    "set have 766 words spanning 29.74 sentences\n",
    "on an average while the summaries consist of 53\n",
    "words and 3.72 sentences.\"\n",
    "\n",
    "see,\n",
    "https://arxiv.org/pdf/1602.06023.pdf"
   ]
  },
  {
   "cell_type": "code",
   "execution_count": 9,
   "metadata": {},
   "outputs": [
    {
     "name": "stderr",
     "output_type": "stream",
     "text": [
      "100%|██████████| 312085/312085 [00:34<00:00, 9068.00it/s] \n"
     ]
    }
   ],
   "source": [
    "context_lens, summary_lens = [], []\n",
    "context_sentences, summary_sentences = [], []\n",
    "for _, context, summary in tqdm.tqdm(summaries):\n",
    "    context_lens.append(len(context.split(' ')))\n",
    "    context_sentences.append(context.count('.'))\n",
    "    summary_lens.append(len(summary.split(' ')))\n",
    "    summary_sentences.append(summary.count('.'))"
   ]
  },
  {
   "cell_type": "code",
   "execution_count": 10,
   "metadata": {},
   "outputs": [],
   "source": [
    "import pandas as pd\n",
    "df = pd.DataFrame({\n",
    "    'context_len': context_lens,\n",
    "    'summary_len': summary_lens,\n",
    "    'context_sent': context_sentences,\n",
    "    'summary_sentences': summary_sentences\n",
    "})"
   ]
  },
  {
   "cell_type": "code",
   "execution_count": 11,
   "metadata": {},
   "outputs": [
    {
     "data": {
      "text/html": [
       "<div>\n",
       "<style scoped>\n",
       "    .dataframe tbody tr th:only-of-type {\n",
       "        vertical-align: middle;\n",
       "    }\n",
       "\n",
       "    .dataframe tbody tr th {\n",
       "        vertical-align: top;\n",
       "    }\n",
       "\n",
       "    .dataframe thead th {\n",
       "        text-align: right;\n",
       "    }\n",
       "</style>\n",
       "<table border=\"1\" class=\"dataframe\">\n",
       "  <thead>\n",
       "    <tr style=\"text-align: right;\">\n",
       "      <th></th>\n",
       "      <th>context_len</th>\n",
       "      <th>summary_len</th>\n",
       "      <th>context_sent</th>\n",
       "      <th>summary_sentences</th>\n",
       "    </tr>\n",
       "  </thead>\n",
       "  <tbody>\n",
       "    <tr>\n",
       "      <th>count</th>\n",
       "      <td>312085.000000</td>\n",
       "      <td>312085.000000</td>\n",
       "      <td>312085.000000</td>\n",
       "      <td>312085.000000</td>\n",
       "    </tr>\n",
       "    <tr>\n",
       "      <th>mean</th>\n",
       "      <td>655.043568</td>\n",
       "      <td>27.544294</td>\n",
       "      <td>31.035487</td>\n",
       "      <td>2.142243</td>\n",
       "    </tr>\n",
       "    <tr>\n",
       "      <th>std</th>\n",
       "      <td>320.493317</td>\n",
       "      <td>6.812521</td>\n",
       "      <td>19.038796</td>\n",
       "      <td>0.577843</td>\n",
       "    </tr>\n",
       "    <tr>\n",
       "      <th>min</th>\n",
       "      <td>1.000000</td>\n",
       "      <td>4.000000</td>\n",
       "      <td>0.000000</td>\n",
       "      <td>1.000000</td>\n",
       "    </tr>\n",
       "    <tr>\n",
       "      <th>25%</th>\n",
       "      <td>417.000000</td>\n",
       "      <td>23.000000</td>\n",
       "      <td>18.000000</td>\n",
       "      <td>2.000000</td>\n",
       "    </tr>\n",
       "    <tr>\n",
       "      <th>50%</th>\n",
       "      <td>597.000000</td>\n",
       "      <td>26.000000</td>\n",
       "      <td>27.000000</td>\n",
       "      <td>2.000000</td>\n",
       "    </tr>\n",
       "    <tr>\n",
       "      <th>75%</th>\n",
       "      <td>833.000000</td>\n",
       "      <td>30.000000</td>\n",
       "      <td>40.000000</td>\n",
       "      <td>2.000000</td>\n",
       "    </tr>\n",
       "    <tr>\n",
       "      <th>max</th>\n",
       "      <td>2356.000000</td>\n",
       "      <td>131.000000</td>\n",
       "      <td>2269.000000</td>\n",
       "      <td>13.000000</td>\n",
       "    </tr>\n",
       "  </tbody>\n",
       "</table>\n",
       "</div>"
      ],
      "text/plain": [
       "         context_len    summary_len   context_sent  summary_sentences\n",
       "count  312085.000000  312085.000000  312085.000000      312085.000000\n",
       "mean      655.043568      27.544294      31.035487           2.142243\n",
       "std       320.493317       6.812521      19.038796           0.577843\n",
       "min         1.000000       4.000000       0.000000           1.000000\n",
       "25%       417.000000      23.000000      18.000000           2.000000\n",
       "50%       597.000000      26.000000      27.000000           2.000000\n",
       "75%       833.000000      30.000000      40.000000           2.000000\n",
       "max      2356.000000     131.000000    2269.000000          13.000000"
      ]
     },
     "execution_count": 11,
     "metadata": {},
     "output_type": "execute_result"
    }
   ],
   "source": [
    "df.describe()"
   ]
  },
  {
   "cell_type": "markdown",
   "metadata": {},
   "source": [
    "## drop to disk"
   ]
  },
  {
   "cell_type": "code",
   "execution_count": 12,
   "metadata": {},
   "outputs": [],
   "source": [
    "try:\n",
    "    os.makedirs(OUTPUT_DIR)\n",
    "except OSError:\n",
    "    pass"
   ]
  },
  {
   "cell_type": "code",
   "execution_count": 13,
   "metadata": {},
   "outputs": [
    {
     "name": "stderr",
     "output_type": "stream",
     "text": [
      "100%|██████████| 312085/312085 [01:40<00:00, 3114.33it/s]\n"
     ]
    }
   ],
   "source": [
    "for file_id, context, summary in tqdm.tqdm(summaries):\n",
    "    text = '\\t'.join([context, summary])\n",
    "    dst = os.path.join(OUTPUT_DIR, f'{file_id}.{EXTENSION}')\n",
    "    with open(dst, 'w') as f:\n",
    "        f.write(text)"
   ]
  },
  {
   "cell_type": "code",
   "execution_count": null,
   "metadata": {},
   "outputs": [],
   "source": []
  }
 ],
 "metadata": {
  "kernelspec": {
   "display_name": "Python 3",
   "language": "python",
   "name": "python3"
  },
  "language_info": {
   "codemirror_mode": {
    "name": "ipython",
    "version": 3
   },
   "file_extension": ".py",
   "mimetype": "text/x-python",
   "name": "python",
   "nbconvert_exporter": "python",
   "pygments_lexer": "ipython3",
   "version": "3.6.2"
  }
 },
 "nbformat": 4,
 "nbformat_minor": 2
}
