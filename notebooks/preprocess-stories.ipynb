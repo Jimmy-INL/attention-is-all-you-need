{
 "cells": [
  {
   "cell_type": "markdown",
   "metadata": {},
   "source": [
    "Preprocess the raw CNN/Dailymail story files.\n",
    "\n",
    "1. Build summary from highlights.\n",
    "2. Write story and summary to a single file where the story and summary are separated by a tab.\n",
    "\n",
    "The data can be obtained from:\n",
    "\n",
    "https://github.com/JafferWilson/Process-Data-of-CNN-DailyMail\n",
    "\n",
    "Parameters:\n",
    "\n",
    "- DATA_DIRECTORIES: The directories containing stories to process.\n",
    "- OUTPUT_DIR: Where the processed stories will be stored.\n",
    "- MAX_SUMMARY_SENTENCES: The maximum number of highlights used to make the summary.\n",
    "- EXTENSION: The file extension to use for the processed stories."
   ]
  },
  {
   "cell_type": "markdown",
   "metadata": {},
   "source": [
    "## Parameters"
   ]
  },
  {
   "cell_type": "code",
   "execution_count": 1,
   "metadata": {},
   "outputs": [],
   "source": [
    "DATA_DIRECTORIES = ['../data/cnn/stories', '../data/dailymail/stories']\n",
    "OUTPUT_DIR = '../data/preprocessed_stories'\n",
    "MAX_SUMMARY_SENTENCES = 2\n",
    "EXTENSION = 'clean'"
   ]
  },
  {
   "cell_type": "markdown",
   "metadata": {},
   "source": [
    "## Get data files"
   ]
  },
  {
   "cell_type": "code",
   "execution_count": 2,
   "metadata": {},
   "outputs": [],
   "source": [
    "import glob\n",
    "import os"
   ]
  },
  {
   "cell_type": "code",
   "execution_count": 3,
   "metadata": {},
   "outputs": [],
   "source": [
    "FILES = []\n",
    "for directory in DATA_DIRECTORIES:\n",
    "    stories = glob.glob(os.path.join(directory, '*'))\n",
    "    FILES.extend(stories)"
   ]
  },
  {
   "cell_type": "code",
   "execution_count": 4,
   "metadata": {},
   "outputs": [
    {
     "data": {
      "text/plain": [
       "312085"
      ]
     },
     "execution_count": 4,
     "metadata": {},
     "output_type": "execute_result"
    }
   ],
   "source": [
    "len(FILES)"
   ]
  },
  {
   "cell_type": "code",
   "execution_count": 5,
   "metadata": {},
   "outputs": [
    {
     "data": {
      "text/plain": [
       "['../data/cnn/stories/42cb40734b147af9f928f769097cecd5fae35d79.story',\n",
       " '../data/cnn/stories/458dfa3980b6be4954bc1158913d57a671a319c9.story',\n",
       " '../data/cnn/stories/60e214a0285536d34f0094d8065e0a3342bcb1f6.story',\n",
       " '../data/cnn/stories/eca7d18130520666db55d1231590e2b49bde3b72.story',\n",
       " '../data/cnn/stories/aebb78aacd3902f04d8326e7f0762f1e13c0381d.story',\n",
       " '../data/cnn/stories/2c9c4ee471b8cdf7d127761e25b94e413d13dd4d.story',\n",
       " '../data/cnn/stories/7d00fe1a731956fd902dee5cacc9e3de804ddcec.story',\n",
       " '../data/cnn/stories/b05deba8554de0df633d60d0068152da250ef076.story',\n",
       " '../data/cnn/stories/f1feae52895b8e6cb0628b41b217f816116681bd.story',\n",
       " '../data/cnn/stories/f1517cb9f19145fd9599daf6c8c1e8eb628b4c88.story']"
      ]
     },
     "execution_count": 5,
     "metadata": {},
     "output_type": "execute_result"
    }
   ],
   "source": [
    "FILES[:10]"
   ]
  },
  {
   "cell_type": "markdown",
   "metadata": {},
   "source": [
    "## Build story parser"
   ]
  },
  {
   "cell_type": "code",
   "execution_count": 6,
   "metadata": {},
   "outputs": [
    {
     "name": "stdout",
     "output_type": "stream",
     "text": [
      "\r\n",
      "\r\n",
      "@highlight\r\n",
      "\r\n",
      "CNN.com will feature iReporter photos in a weekly Travel Snapshots gallery\r\n",
      "\r\n",
      "@highlight\r\n",
      "\r\n",
      "Please submit your best shots of Barcelona, Spain for next week\r\n",
      "\r\n",
      "@highlight\r\n",
      "\r\n",
      "Visit CNN.com/Travel next Wednesday for a new gallery of snapshots\r\n"
     ]
    }
   ],
   "source": [
    "# some stories are bad, e.g.\n",
    "!more ../data/cnn/stories/00465603227f7f56fcd37e10f4cd44e57d7647d8.story"
   ]
  },
  {
   "cell_type": "code",
   "execution_count": 7,
   "metadata": {},
   "outputs": [],
   "source": [
    "import os\n",
    "def parse(file, max_summary_sentences=None):\n",
    "    with open(file) as f:\n",
    "        file_id = os.path.basename(file).partition('.')[0]\n",
    "        content = f.read()\n",
    "        content = content.replace('\\t', '<tab>')\n",
    "        context, *highlights = content.split('@highlight')\n",
    "        if max_summary_sentences is not None:\n",
    "            highlights = highlights[:max_summary_sentences]\n",
    "        summary = ' . '.join(highlights) + ' .'\n",
    "        context, summary = context.strip(), summary.strip()\n",
    "        if not context and summary:\n",
    "            return None\n",
    "        return file_id, context.strip(), summary.strip()"
   ]
  },
  {
   "cell_type": "code",
   "execution_count": 8,
   "metadata": {},
   "outputs": [
    {
     "name": "stderr",
     "output_type": "stream",
     "text": [
      "100%|██████████| 312085/312085 [02:01<00:00, 2558.64it/s]\n"
     ]
    }
   ],
   "source": [
    "import tqdm\n",
    "summaries = [parse(f, MAX_SUMMARY_SENTENCES) for f in tqdm.tqdm(FILES)]\n",
    "summaries = [s for s in summaries if s is not None]"
   ]
  },
  {
   "cell_type": "code",
   "execution_count": 9,
   "metadata": {
    "scrolled": true
   },
   "outputs": [
    {
     "data": {
      "text/plain": [
       "('42cb40734b147af9f928f769097cecd5fae35d79',\n",
       " '(LifeWire) -- When April Kling locked eyes with a handsome stranger on her flight out of Chicago last Christmas, her heart skipped a beat. So she did what any hip 21st-century single would do: She posted an ad on Craigslist.org\\'s \"missed connections\" bulletin board when she got home.\\n\\nA \"missed connection\" ad led to the marriage of Dan and Erin Kottke who welcomed son Linus two years later.\\n\\n\"He replied within two hours,\" says Kling, a 29-year-old sales associate and musician from Seattle. \"We e-mailed back and forth and realized we had a lot of mutual friends. I thought, \\'Wow, this is meant to be.\\'\"\\n\\nIt wasn\\'t.\\n\\nKling and her missed-connection match went out a few times, but then he bowed out, citing relationship butterflies. Three weeks later, however, a mutual friend told Kling the guy was seeing someone else. But he apparently was still smitten with the story of how he and Kling met.\\n\\n\"I was at a wedding and this girl came up to me and says, \\'Are you that April who dated so-and-so last winter? I just love your story -- it\\'s so romantic,\\'\" says Kling. \"For me, that\\'s the kind of story you tell if you\\'re still together.\"\\n\\nYearning to be \\'missed\\'\\n\\nCraigslist, Kizmeet.com, ISawYou.com, SubwayCrush.com -- these missed-opportunity matchmakers have become a staple of online modern love. They\\'ve also become a way for some singles to fantasize about the people they\\'d like to meet and those they hope will want to meet them.\\n\\n\"I love reading those missed-connections ads. Everyone does,\" says Adrienne Meraz, a 22-year-old gallery assistant from New York City. \"And I\\'ve always had this hope in the back of my mind that someone would \\'miss\\' me.\"\\n\\nMeraz\\'s wish came true in February after a chance encounter with a handsome graphic designer named Jeff at the grocery store, when they both reached for the same carton of orange juice. At home a few hours later, Meraz, an avid reader of Craigslist\\'s missed connections, surfed over to the site and got the surprise of her life: \"Beautiful girl in the sambas at Trader Joe\\'s - m4w - 23 (Union Square).\"\\n\\n\"When I saw Jeff\\'s ad, I started screaming, \\'I\\'m the brunette in the (Adidas) Sambas!\\'\" Meraz says. The two have been dating ever since.\\n\\nDesperately seeking someone\\n\\nMary Robertson, a documentary filmmaker in New York City, isn\\'t surprised by the appeal of the missed connection. She\\'s been working on a film about the phenomenon for 10 months.\\n\\n\"What inspires me about these ads is the density of the narrative,\" says Robertson, 30, who\\'s read and responded to hundreds of Craigslist postings since beginning work on the film. \"The longing, the romance -- all in this small space. They\\'re like haikus.\"\\n\\nSome of the stories Robertson has collected are heart-wrenching -- like the Milwaukee man who spent five hours talking with a woman in a New York bar, realized she was the \"love of his life,\" then left without getting her number. Others, like the woman whose online flirt turned out to be married, are cynical reminders of how elusive true connections can be.\\n\\nMost ads come from commuters afraid to talk to someone on the subway out of shyness, says Robertson. Other chance encounters occur at big-box stores like Target.\\n\\n\"There\\'s one elevator in the Target on Atlantic Avenue in Brooklyn that seems to be a real hot spot for romance,\" she says. \"If I were single, I\\'d ride that elevator up and down.\"\\n\\nRedefining the pickup line\\n\\nThe appeal of missed-connection Web sites may indicate a shift in how people approach the search for love.\\n\\nOne woman Robertson interviewed told her of a flirtatious encounter with a guy at a pizza parlor. Rather than give the guy her number, Robertson says, \"she said to herself, \\'I\\'ll just find him later on the Internet.\\' Five years or even two years ago, you wouldn\\'t have thought you could find a stranger on the Internet. But that possibility exists now.\"\\n\\nThat\\'s not necessarily a good thing, says Bonnie Jacobson, director of the New York Institute for Psychological Change and author of \"The Shy Single: A Bold Guide to Dating for the Less-Than-Bold Dater.\"\\n\\n\"We have so much technology, all these ways of communicating that aren\\'t face to face, it\\'s intensified our fear of direct communication,\" she says. \"It\\'s always scary to say hello to a stranger, but going to the Internet just keeps the hesitation going.\"\\n\\nHappily ever after?\\n\\nBut missed connections aren\\'t just about being too shy to approach a potential love interest or reaching for the unattainable out of fear of commitment. Sometimes, they\\'re simply about losing the object of your attraction in a crowd.\\n\\nDan Kottke, a 31-year-old architect from Minneapolis, says he was disappointed when he couldn\\'t find Erin, the \"cool girl with the magnetic personality\" he\\'d chatted with at a concert on September 4, 2006. But he was delighted when he saw her Craigslist posting the next day.\\n\\n\"A lot of those ads seem to be from guys and girls who can\\'t work up the courage to ask the person out,\" he says. \"But in the case with Erin, it was a true missed connection.\"\\n\\nKottke and Erin, a 26-year-old marketing manager, went on a date three weeks after she posted the ad. Their story has a true -- and traditional -- happy ending.\\n\\n\"It\\'s really unbelievable to think how one little item like an Internet posting has changed my life,\" says Kottke. \"But a couple of years later, I\\'m happily married and have a great son. I really do owe a lot to Craigslist.\"\\n\\nLifeWire provides original and syndicated lifestyle content to Web publishers. Diane Mapes is the author of \"How to Date in a Post-Dating World\" and writes a column, Single Shot, for the Seattle Post-Intelligencer.',\n",
       " 'If you saw your perfect love, but were afraid to talk, post ad on the Web\\n\\n . \\n\\nFilmmaker: Elevator in Target in Brooklyn is \"real hot spot for romance\"\\n\\n .')"
      ]
     },
     "execution_count": 9,
     "metadata": {},
     "output_type": "execute_result"
    }
   ],
   "source": [
    "summaries[0]"
   ]
  },
  {
   "cell_type": "markdown",
   "metadata": {},
   "source": [
    "## Calculate some basic statistics on data\n",
    "\n",
    "Summary stats should match (when there is no limit placed on summary length and new lines are not split out)\n",
    "\n",
    "\"The source documents in the training\n",
    "set have 766 words spanning 29.74 sentences\n",
    "on an average while the summaries consist of 53\n",
    "words and 3.72 sentences.\"\n",
    "\n",
    "see,\n",
    "https://arxiv.org/pdf/1602.06023.pdf"
   ]
  },
  {
   "cell_type": "code",
   "execution_count": 10,
   "metadata": {},
   "outputs": [
    {
     "name": "stderr",
     "output_type": "stream",
     "text": [
      "100%|██████████| 311971/311971 [00:11<00:00, 28264.99it/s]\n"
     ]
    }
   ],
   "source": [
    "context_lens, summary_lens = [], []\n",
    "context_sentences, summary_sentences = [], []\n",
    "for _, context, summary in tqdm.tqdm(summaries):\n",
    "    context_lens.append(len(context.split(' ')))\n",
    "    context_sentences.append(context.count('.'))\n",
    "    summary_lens.append(len(summary.split(' ')))\n",
    "    summary_sentences.append(summary.count('.'))"
   ]
  },
  {
   "cell_type": "code",
   "execution_count": 14,
   "metadata": {},
   "outputs": [],
   "source": [
    "import pandas as pd\n",
    "df = pd.DataFrame({\n",
    "    'context_len': context_lens,\n",
    "    'summary_len': summary_lens,\n",
    "    'context_sent': context_sentences,\n",
    "    'summary_sentences': summary_sentences\n",
    "})"
   ]
  },
  {
   "cell_type": "code",
   "execution_count": 15,
   "metadata": {},
   "outputs": [
    {
     "data": {
      "text/html": [
       "<div>\n",
       "<style scoped>\n",
       "    .dataframe tbody tr th:only-of-type {\n",
       "        vertical-align: middle;\n",
       "    }\n",
       "\n",
       "    .dataframe tbody tr th {\n",
       "        vertical-align: top;\n",
       "    }\n",
       "\n",
       "    .dataframe thead th {\n",
       "        text-align: right;\n",
       "    }\n",
       "</style>\n",
       "<table border=\"1\" class=\"dataframe\">\n",
       "  <thead>\n",
       "    <tr style=\"text-align: right;\">\n",
       "      <th></th>\n",
       "      <th>context_len</th>\n",
       "      <th>summary_len</th>\n",
       "      <th>context_sent</th>\n",
       "      <th>summary_sentences</th>\n",
       "    </tr>\n",
       "  </thead>\n",
       "  <tbody>\n",
       "    <tr>\n",
       "      <th>count</th>\n",
       "      <td>311971.000000</td>\n",
       "      <td>311971.000000</td>\n",
       "      <td>311971.000000</td>\n",
       "      <td>311971.000000</td>\n",
       "    </tr>\n",
       "    <tr>\n",
       "      <th>mean</th>\n",
       "      <td>655.282568</td>\n",
       "      <td>27.545644</td>\n",
       "      <td>31.046828</td>\n",
       "      <td>2.142084</td>\n",
       "    </tr>\n",
       "    <tr>\n",
       "      <th>std</th>\n",
       "      <td>320.307863</td>\n",
       "      <td>6.813130</td>\n",
       "      <td>19.033027</td>\n",
       "      <td>0.577694</td>\n",
       "    </tr>\n",
       "    <tr>\n",
       "      <th>min</th>\n",
       "      <td>7.000000</td>\n",
       "      <td>4.000000</td>\n",
       "      <td>0.000000</td>\n",
       "      <td>1.000000</td>\n",
       "    </tr>\n",
       "    <tr>\n",
       "      <th>25%</th>\n",
       "      <td>417.000000</td>\n",
       "      <td>23.000000</td>\n",
       "      <td>18.000000</td>\n",
       "      <td>2.000000</td>\n",
       "    </tr>\n",
       "    <tr>\n",
       "      <th>50%</th>\n",
       "      <td>597.000000</td>\n",
       "      <td>26.000000</td>\n",
       "      <td>27.000000</td>\n",
       "      <td>2.000000</td>\n",
       "    </tr>\n",
       "    <tr>\n",
       "      <th>75%</th>\n",
       "      <td>833.000000</td>\n",
       "      <td>30.000000</td>\n",
       "      <td>40.000000</td>\n",
       "      <td>2.000000</td>\n",
       "    </tr>\n",
       "    <tr>\n",
       "      <th>max</th>\n",
       "      <td>2356.000000</td>\n",
       "      <td>131.000000</td>\n",
       "      <td>2269.000000</td>\n",
       "      <td>13.000000</td>\n",
       "    </tr>\n",
       "  </tbody>\n",
       "</table>\n",
       "</div>"
      ],
      "text/plain": [
       "         context_len    summary_len   context_sent  summary_sentences\n",
       "count  311971.000000  311971.000000  311971.000000      311971.000000\n",
       "mean      655.282568      27.545644      31.046828           2.142084\n",
       "std       320.307863       6.813130      19.033027           0.577694\n",
       "min         7.000000       4.000000       0.000000           1.000000\n",
       "25%       417.000000      23.000000      18.000000           2.000000\n",
       "50%       597.000000      26.000000      27.000000           2.000000\n",
       "75%       833.000000      30.000000      40.000000           2.000000\n",
       "max      2356.000000     131.000000    2269.000000          13.000000"
      ]
     },
     "execution_count": 15,
     "metadata": {},
     "output_type": "execute_result"
    }
   ],
   "source": [
    "df.describe()"
   ]
  },
  {
   "cell_type": "markdown",
   "metadata": {},
   "source": [
    "## drop to disk"
   ]
  },
  {
   "cell_type": "code",
   "execution_count": 16,
   "metadata": {},
   "outputs": [],
   "source": [
    "try:\n",
    "    os.makedirs(OUTPUT_DIR)\n",
    "except OSError:\n",
    "    pass"
   ]
  },
  {
   "cell_type": "code",
   "execution_count": 17,
   "metadata": {},
   "outputs": [
    {
     "name": "stderr",
     "output_type": "stream",
     "text": [
      "100%|██████████| 311971/311971 [00:19<00:00, 15612.14it/s]\n"
     ]
    }
   ],
   "source": [
    "for file_id, context, summary in tqdm.tqdm(summaries):\n",
    "    text = '\\t'.join([context, summary])\n",
    "    dst = os.path.join(OUTPUT_DIR, f'{file_id}.{EXTENSION}')\n",
    "    with open(dst, 'w') as f:\n",
    "        f.write(text)"
   ]
  },
  {
   "cell_type": "code",
   "execution_count": null,
   "metadata": {},
   "outputs": [],
   "source": []
  }
 ],
 "metadata": {
  "kernelspec": {
   "display_name": "Python 3",
   "language": "python",
   "name": "python3"
  },
  "language_info": {
   "codemirror_mode": {
    "name": "ipython",
    "version": 3
   },
   "file_extension": ".py",
   "mimetype": "text/x-python",
   "name": "python",
   "nbconvert_exporter": "python",
   "pygments_lexer": "ipython3",
   "version": "3.6.6"
  }
 },
 "nbformat": 4,
 "nbformat_minor": 2
}
