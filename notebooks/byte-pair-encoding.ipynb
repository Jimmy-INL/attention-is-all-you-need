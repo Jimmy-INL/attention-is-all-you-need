{
 "cells": [
  {
   "cell_type": "code",
   "execution_count": 1,
   "metadata": {},
   "outputs": [],
   "source": [
    "import sentencepiece as sp"
   ]
  },
  {
   "cell_type": "code",
   "execution_count": 2,
   "metadata": {},
   "outputs": [],
   "source": [
    "N_TRAIN_SENTENCES = 20000\n",
    "TRAINING_FILE = 'cnn/summary_bpe_train.txt'\n",
    "VOCAB_SIZE = 10000\n",
    "MODEL_NAME = 'cnn'"
   ]
  },
  {
   "cell_type": "markdown",
   "metadata": {},
   "source": [
    "# make training data"
   ]
  },
  {
   "cell_type": "code",
   "execution_count": 3,
   "metadata": {},
   "outputs": [],
   "source": [
    "import glob\n",
    "import random\n",
    "import tqdm\n",
    "files = glob.glob('cnn/summary/*')"
   ]
  },
  {
   "cell_type": "code",
   "execution_count": 4,
   "metadata": {},
   "outputs": [
    {
     "name": "stderr",
     "output_type": "stream",
     "text": [
      "100%|██████████| 20000/20000 [00:03<00:00, 5287.94it/s]\n"
     ]
    }
   ],
   "source": [
    "with open(TRAINING_FILE, 'w') as f_train:\n",
    "    for _ in tqdm.tqdm(range(N_TRAIN_SENTENCES)):\n",
    "        sample_file = random.choice(files)\n",
    "        with open(sample_file) as f_sample:\n",
    "            sentence = random.choice(f_sample.read().split('\\n'))\n",
    "        f_train.write(f'{sentence}\\n')"
   ]
  },
  {
   "cell_type": "markdown",
   "metadata": {},
   "source": [
    "# Fit Encoder"
   ]
  },
  {
   "cell_type": "code",
   "execution_count": 5,
   "metadata": {},
   "outputs": [],
   "source": [
    "import numpy as np\n",
    "import sentencepiece as spm\n",
    "\n",
    "class BytePairEncoder:\n",
    "    def __init__(self, vocab_size, model_name, train_files):\n",
    "        self.vocab_size = vocab_size\n",
    "        self.model_name = model_name\n",
    "        self.model_file = f'{self.model_name}.model'\n",
    "        self.vocab_file = f'{self.model_name}.vocab'\n",
    "        self.processor = self._fit(train_files)\n",
    "\n",
    "    def _fit(self, train_files):\n",
    "        spm.SentencePieceTrainer.Train(' '.join((\n",
    "            f'--input={train_files}',\n",
    "            f'--model_prefix={self.model_name}',\n",
    "            f'--vocab_size={self.vocab_size}'\n",
    "            '--model_type=bpe',\n",
    "        )))\n",
    "        processor = spm.SentencePieceProcessor()\n",
    "        processor.Load(self.model_file)\n",
    "        return processor\n",
    "        \n",
    "    def encode(self, text):\n",
    "        return np.array(self.processor.EncodeAsIds(text))\n",
    "    \n",
    "    def encode_as_pieces(self, text):\n",
    "        return self.processor.EncodeAsPieces(text)\n",
    "    \n",
    "    def decode(self, ids):\n",
    "        return self.processor.DecodeIds(ids.tolist())\n",
    "    \n",
    "    def decode_pieces(self, pieces):\n",
    "        return self.processor.DecodePieces(pieces)"
   ]
  },
  {
   "cell_type": "code",
   "execution_count": 6,
   "metadata": {},
   "outputs": [
    {
     "name": "stdout",
     "output_type": "stream",
     "text": [
      "CPU times: user 3 µs, sys: 0 ns, total: 3 µs\n",
      "Wall time: 7.87 µs\n"
     ]
    }
   ],
   "source": [
    "%time\n",
    "bpe = BytePairEncoder(vocab_size=VOCAB_SIZE, model_name=MODEL_NAME, train_files=TRAINING_FILE)"
   ]
  },
  {
   "cell_type": "code",
   "execution_count": 7,
   "metadata": {},
   "outputs": [
    {
     "data": {
      "text/plain": [
       "\"While the firelight's aglow strange shadows in the flames will grow till things we've never seen will seem familiar\""
      ]
     },
     "execution_count": 7,
     "metadata": {},
     "output_type": "execute_result"
    }
   ],
   "source": [
    "sample_text = ' '.join('''\n",
    "While the firelight's aglow\n",
    "strange shadows in the flames will grow\n",
    "till things we've never seen\n",
    "will seem familiar\n",
    "'''.strip().split('\\n'))\n",
    "sample_text"
   ]
  },
  {
   "cell_type": "code",
   "execution_count": 8,
   "metadata": {},
   "outputs": [
    {
     "data": {
      "text/plain": [
       "array([   3,    0,  340, 1909,    6,  303, 3007,  105,    7, 2759, 1027,\n",
       "       2627, 5778,    7,   12,    6, 2807,    7,   53, 1326,  138, 2639,\n",
       "       1026,    7,   78,  105,  239,  631,  199,   66,   53,  983, 2426])"
      ]
     },
     "execution_count": 8,
     "metadata": {},
     "output_type": "execute_result"
    }
   ],
   "source": [
    "ids = bpe.encode(sample_text)\n",
    "ids"
   ]
  },
  {
   "cell_type": "code",
   "execution_count": 9,
   "metadata": {},
   "outputs": [
    {
     "data": {
      "text/plain": [
       "\" ⁇ hile the firelight's aglow strange shadows in the flames will grow till things we've never seen will seem familiar\""
      ]
     },
     "execution_count": 9,
     "metadata": {},
     "output_type": "execute_result"
    }
   ],
   "source": [
    "bpe.decode(ids)"
   ]
  },
  {
   "cell_type": "code",
   "execution_count": 10,
   "metadata": {},
   "outputs": [
    {
     "data": {
      "text/plain": [
       "[b'\\xe2\\x96\\x81',\n",
       " b'W',\n",
       " b'h',\n",
       " b'ile',\n",
       " b'\\xe2\\x96\\x81the',\n",
       " b'\\xe2\\x96\\x81fire',\n",
       " b'light',\n",
       " b\"'\",\n",
       " b's',\n",
       " b'\\xe2\\x96\\x81ag',\n",
       " b'low',\n",
       " b'\\xe2\\x96\\x81strange',\n",
       " b'\\xe2\\x96\\x81shadow',\n",
       " b's',\n",
       " b'\\xe2\\x96\\x81in',\n",
       " b'\\xe2\\x96\\x81the',\n",
       " b'\\xe2\\x96\\x81flame',\n",
       " b's',\n",
       " b'\\xe2\\x96\\x81will',\n",
       " b'\\xe2\\x96\\x81grow',\n",
       " b'\\xe2\\x96\\x81t',\n",
       " b'ill',\n",
       " b'\\xe2\\x96\\x81thing',\n",
       " b's',\n",
       " b'\\xe2\\x96\\x81we',\n",
       " b\"'\",\n",
       " b've',\n",
       " b'\\xe2\\x96\\x81never',\n",
       " b'\\xe2\\x96\\x81see',\n",
       " b'n',\n",
       " b'\\xe2\\x96\\x81will',\n",
       " b'\\xe2\\x96\\x81seem',\n",
       " b'\\xe2\\x96\\x81familiar']"
      ]
     },
     "execution_count": 10,
     "metadata": {},
     "output_type": "execute_result"
    }
   ],
   "source": [
    "pieces = bpe.encode_as_pieces(sample_text)\n",
    "pieces"
   ]
  },
  {
   "cell_type": "code",
   "execution_count": 11,
   "metadata": {},
   "outputs": [
    {
     "data": {
      "text/plain": [
       "\"While the firelight's aglow strange shadows in the flames will grow till things we've never seen will seem familiar\""
      ]
     },
     "execution_count": 11,
     "metadata": {},
     "output_type": "execute_result"
    }
   ],
   "source": [
    "bpe.decode_pieces(pieces)"
   ]
  },
  {
   "cell_type": "code",
   "execution_count": 14,
   "metadata": {},
   "outputs": [
    {
     "data": {
      "text/plain": [
       "\" While the firelight's aglow strange shadows in the flames will grow till things we've never seen will seem familiar\""
      ]
     },
     "execution_count": 14,
     "metadata": {},
     "output_type": "execute_result"
    }
   ],
   "source": [
    "''.join(p.decode('utf-8').replace('▁', ' ') for p in pieces)"
   ]
  },
  {
   "cell_type": "code",
   "execution_count": 15,
   "metadata": {},
   "outputs": [
    {
     "name": "stdout",
     "output_type": "stream",
     "text": [
      "<unk>\t0\r\n",
      "<s>\t0\r\n",
      "</s>\t0\r\n",
      "▁\t-2.70518\r\n",
      "entity\t-2.76039\r\n",
      "▁@\t-2.76088\r\n",
      "▁the\t-3.20587\r\n",
      "s\t-3.43503\r\n",
      ",\t-3.48933\r\n",
      "▁.\t-3.61551\r\n",
      "▁a\t-4.07749\r\n",
      "▁to\t-4.16409\r\n",
      "▁in\t-4.21967\r\n",
      "ed\t-4.22016\r\n",
      "▁\"\t-4.24646\r\n",
      "▁of\t-4.32205\r\n",
      "and\t-4.46666\r\n",
      "ing\t-4.52517\r\n",
      "▁'\t-4.61865\r\n",
      "d\t-4.92585\r\n",
      "y\t-4.96069\r\n",
      "▁-\t-5.0486\r\n",
      "▁on\t-5.07137\r\n",
      "1\t-5.07385\r\n",
      "▁said\t-5.18567\r\n",
      "▁be\t-5.1917\r\n",
      "▁for\t-5.22642\r\n",
      "▁was\t-5.27119\r\n",
      "▁with\t-5.38845\r\n",
      "▁is\t-5.41068\r\n",
      "0\t-5.4161\r\n",
      "2\t-5.46806\r\n",
      "▁that\t-5.48568\r\n",
      "▁he\t-5.58142\r\n",
      "▁--\t-5.60136\r\n",
      "ly\t-5.61833\r\n",
      "▁at\t-5.62728\r\n",
      "3\t-5.65259\r\n",
      "4\t-5.6679\r\n",
      "▁an\t-5.71241\r\n",
      "▁it\t-5.74109\r\n",
      "▁his\t-5.74819\r\n",
      ")\t-5.77492\r\n",
      "(\t-5.79208\r\n",
      "m\t-5.81885\r\n",
      "t\t-5.83233\r\n",
      "5\t-5.8337\r\n",
      "▁has\t-5.93128\r\n",
      "e\t-5.9549\r\n",
      "▁as\t-5.96678\r\n",
      "6\t-5.9735\r\n",
      "7\t-5.97439\r\n",
      "▁by\t-6.00798\r\n",
      "▁will\t-6.07061\r\n",
      "en\t-6.07086\r\n",
      "▁have\t-6.10553\r\n",
      "9\t-6.11204\r\n",
      "8\t-6.14442\r\n",
      "▁i\t-6.17625\r\n",
      "▁after\t-6.18213\r\n",
      "▁who\t-6.18394\r\n",
      "▁were\t-6.24241\r\n",
      "▁but\t-6.24864\r\n",
      "▁fro\t-6.30637\r\n",
      "▁not\t-6.33654\r\n",
      "10\t-6.34638\r\n",
      "n\t-6.36058\r\n",
      "▁are\t-6.41811\r\n",
      "▁year\t-6.4566\r\n",
      "11\t-6.49037\r\n",
      "▁had\t-6.51729\r\n",
      "▁her\t-6.52986\r\n",
      "▁two\t-6.53288\r\n",
      "▁f\t-6.54719\r\n",
      ".\t-6.55464\r\n",
      "▁al\t-6.55924\r\n",
      "▁thi\t-6.57732\r\n",
      "12\t-6.59071\r\n",
      "▁we\t-6.6072\r\n",
      "▁one\t-6.6216\r\n",
      "ir\t-6.64203\r\n",
      "13\t-6.64817\r\n",
      "▁she\t-6.75796\r\n",
      "st\t-6.76882\r\n",
      "14\t-6.77933\r\n",
      "▁up\t-6.78115\r\n",
      "▁last\t-6.78228\r\n",
      "▁w\t-6.79246\r\n",
      "▁first\t-6.79291\r\n",
      "▁more\t-6.79765\r\n",
      ":\t-6.80805\r\n",
      "so\t-6.80946\r\n",
      "▁when\t-6.82543\r\n",
      "▁time\t-6.82881\r\n",
      "15\t-6.83028\r\n",
      "▁out\t-6.83633\r\n",
      "▁according\t-6.84124\r\n",
      "ch\t-6.84216\r\n",
      "about\t-6.86215\r\n",
      "ould\t-6.86506\r\n"
     ]
    }
   ],
   "source": [
    "!more cnn.vocab | head -100"
   ]
  },
  {
   "cell_type": "code",
   "execution_count": null,
   "metadata": {},
   "outputs": [],
   "source": []
  }
 ],
 "metadata": {
  "kernelspec": {
   "display_name": "Python 3",
   "language": "python",
   "name": "python3"
  },
  "language_info": {
   "codemirror_mode": {
    "name": "ipython",
    "version": 3
   },
   "file_extension": ".py",
   "mimetype": "text/x-python",
   "name": "python",
   "nbconvert_exporter": "python",
   "pygments_lexer": "ipython3",
   "version": "3.6.2"
  }
 },
 "nbformat": 4,
 "nbformat_minor": 2
}
