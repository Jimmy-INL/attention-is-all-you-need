{
 "cells": [
  {
   "cell_type": "markdown",
   "metadata": {},
   "source": [
    "Wrap the [sentencepiece](https://github.com/google/sentencepiece) Byte-Pair-Encoder with a nice API."
   ]
  },
  {
   "cell_type": "code",
   "execution_count": 1,
   "metadata": {},
   "outputs": [],
   "source": [
    "N_TRAIN_SENTENCES = 1_000_000\n",
    "TRAINING_FILE = 'cnn/summary_bpe_train.txt'\n",
    "VOCAB_SIZE = 30000\n",
    "MODEL_NAME = 'summarizer'\n",
    "DATA_DIRECTORY = '../data/preprocessed_stories'"
   ]
  },
  {
   "cell_type": "markdown",
   "metadata": {},
   "source": [
    "# make training data"
   ]
  },
  {
   "cell_type": "code",
   "execution_count": 2,
   "metadata": {},
   "outputs": [],
   "source": [
    "import glob\n",
    "import os\n",
    "import random\n",
    "import tqdm\n",
    "FILES = glob.glob(os.path.join(DATA_DIRECTORY, '*'))"
   ]
  },
  {
   "cell_type": "code",
   "execution_count": 3,
   "metadata": {},
   "outputs": [
    {
     "data": {
      "text/plain": [
       "312085"
      ]
     },
     "execution_count": 3,
     "metadata": {},
     "output_type": "execute_result"
    }
   ],
   "source": [
    "len(FILES)"
   ]
  },
  {
   "cell_type": "code",
   "execution_count": 4,
   "metadata": {},
   "outputs": [],
   "source": [
    "random.shuffle(FILES)"
   ]
  },
  {
   "cell_type": "code",
   "execution_count": 5,
   "metadata": {},
   "outputs": [
    {
     "name": "stderr",
     "output_type": "stream",
     "text": [
      "  5%|▌         | 15792/312085 [00:07<02:22, 2076.14it/s]\n"
     ]
    }
   ],
   "source": [
    "class Quit(Exception): pass\n",
    "try:\n",
    "    with open(TRAINING_FILE, 'w') as f_train:\n",
    "        n_sentences = 0\n",
    "        for file in tqdm.tqdm(FILES):\n",
    "            with open(file) as f:\n",
    "                for line in f:\n",
    "                    n_sentences += 1\n",
    "                    if n_sentences == N_TRAIN_SENTENCES:\n",
    "                        raise Quit(\n",
    "                            'hacky solution to break from two for loops in '\n",
    "                            'notebook without defining a bunch of funtions and '\n",
    "                            'overengineering this whole thing.')\n",
    "                    f_train.write(line.replace('\\t', ' '))\n",
    "except Quit:\n",
    "    pass"
   ]
  },
  {
   "cell_type": "markdown",
   "metadata": {},
   "source": [
    "# Fit Encoder"
   ]
  },
  {
   "cell_type": "code",
   "execution_count": 6,
   "metadata": {},
   "outputs": [],
   "source": [
    "import numpy as np\n",
    "import sentencepiece as spm\n",
    "\n",
    "class BytePairEncoder:\n",
    "    def __init__(self, vocab_size, model_name, *, model_file=None, vocab_file=None,\n",
    "                 training_file=None, processor=None, **kwargs):\n",
    "        self.vocab_size = vocab_size\n",
    "        self.model_name = model_name\n",
    "        self.training_file = training_file\n",
    "        self.model_file = f'{self.model_name}.model' if model_file is None else model_file\n",
    "        self.vocab_file = f'{self.model_name}.vocab' if vocab_file is None else vocab_file\n",
    "        if processor is None:\n",
    "            if training_file is None:\n",
    "                raise ValueError('training_file cannot be None when processor is also None.')\n",
    "            processor = self._fit(input=training_file, vocab_size=vocab_size,\n",
    "                                  model_prefix=model_name, model_type='bpe',\n",
    "                                  **kwargs)\n",
    "        self.processor = processor\n",
    "        \n",
    "    def encode(self, text):\n",
    "        return np.array(self.processor.EncodeAsIds(text))\n",
    "    \n",
    "    def encode_as_pieces(self, text):\n",
    "        return self.processor.EncodeAsPieces(text)\n",
    "    \n",
    "    def decode(self, ids):\n",
    "        return self.processor.DecodeIds(ids.tolist())\n",
    "    \n",
    "    def decode_pieces(self, pieces):\n",
    "        return self.processor.DecodePieces(pieces)\n",
    "\n",
    "    @classmethod\n",
    "    def from_files(cls, model_file, vocab_file):\n",
    "        model_name = model_file.partition('.')[0]\n",
    "        processor = cls._load_model(model_file)\n",
    "        for vocab_size, _ in enumerate(open(vocab_file), start=1): pass\n",
    "        return cls(vocab_size=vocab_size, model_name=model_name, processor=processor,\n",
    "                   model_file=model_file, vocab_file=vocab_file)\n",
    "        \n",
    "    @staticmethod\n",
    "    def _load_model(filename):\n",
    "        processor = spm.SentencePieceProcessor()\n",
    "        processor.Load(filename)\n",
    "        return processor\n",
    "        \n",
    "    def _fit(self, **kwargs):\n",
    "        params = ' '.join([f'--{k}={v}' for k, v in kwargs.items()])\n",
    "        spm.SentencePieceTrainer.Train(params)\n",
    "        processor = self._load_model(self.model_file)\n",
    "        return processor"
   ]
  },
  {
   "cell_type": "code",
   "execution_count": 7,
   "metadata": {},
   "outputs": [
    {
     "name": "stdout",
     "output_type": "stream",
     "text": [
      "CPU times: user 43.4 s, sys: 4.49 s, total: 47.9 s\n",
      "Wall time: 48.5 s\n"
     ]
    }
   ],
   "source": [
    "%%time\n",
    "bpe = BytePairEncoder(vocab_size=VOCAB_SIZE, model_name=MODEL_NAME, training_file=TRAINING_FILE)"
   ]
  },
  {
   "cell_type": "code",
   "execution_count": 8,
   "metadata": {},
   "outputs": [
    {
     "data": {
      "text/plain": [
       "\"While the firelight's aglow strange shadows in the flames will grow till things we've never seen will seem familiar\""
      ]
     },
     "execution_count": 8,
     "metadata": {},
     "output_type": "execute_result"
    }
   ],
   "source": [
    "sample_text = ' '.join('''\n",
    "While the firelight's aglow\n",
    "strange shadows in the flames will grow\n",
    "till things we've never seen\n",
    "will seem familiar\n",
    "'''.strip().split('\\n'))\n",
    "sample_text"
   ]
  },
  {
   "cell_type": "code",
   "execution_count": 9,
   "metadata": {},
   "outputs": [
    {
     "data": {
      "text/plain": [
       "array([ 2206,     8,  1294,  3503, 29948, 29930,   261,  8998,  8133,\n",
       "       25658,    30,     8,  8538,   239,  1756, 16875,  1511,   167,\n",
       "       29948,    54,   929,   940,   239,  1427,  7676])"
      ]
     },
     "execution_count": 9,
     "metadata": {},
     "output_type": "execute_result"
    }
   ],
   "source": [
    "ids = bpe.encode(sample_text)\n",
    "ids"
   ]
  },
  {
   "cell_type": "code",
   "execution_count": 10,
   "metadata": {},
   "outputs": [
    {
     "data": {
      "text/plain": [
       "\"While the firelight's aglow strange shadows in the flames will grow till things we've never seen will seem familiar\""
      ]
     },
     "execution_count": 10,
     "metadata": {},
     "output_type": "execute_result"
    }
   ],
   "source": [
    "bpe.decode(ids)"
   ]
  },
  {
   "cell_type": "code",
   "execution_count": 11,
   "metadata": {},
   "outputs": [
    {
     "data": {
      "text/plain": [
       "[b'\\xe2\\x96\\x81While',\n",
       " b'\\xe2\\x96\\x81the',\n",
       " b'\\xe2\\x96\\x81fire',\n",
       " b'light',\n",
       " b\"'\",\n",
       " b's',\n",
       " b'\\xe2\\x96\\x81ag',\n",
       " b'low',\n",
       " b'\\xe2\\x96\\x81strange',\n",
       " b'\\xe2\\x96\\x81shadows',\n",
       " b'\\xe2\\x96\\x81in',\n",
       " b'\\xe2\\x96\\x81the',\n",
       " b'\\xe2\\x96\\x81flames',\n",
       " b'\\xe2\\x96\\x81will',\n",
       " b'\\xe2\\x96\\x81grow',\n",
       " b'\\xe2\\x96\\x81till',\n",
       " b'\\xe2\\x96\\x81things',\n",
       " b'\\xe2\\x96\\x81we',\n",
       " b\"'\",\n",
       " b've',\n",
       " b'\\xe2\\x96\\x81never',\n",
       " b'\\xe2\\x96\\x81seen',\n",
       " b'\\xe2\\x96\\x81will',\n",
       " b'\\xe2\\x96\\x81seem',\n",
       " b'\\xe2\\x96\\x81familiar']"
      ]
     },
     "execution_count": 11,
     "metadata": {},
     "output_type": "execute_result"
    }
   ],
   "source": [
    "pieces = bpe.encode_as_pieces(sample_text)\n",
    "pieces"
   ]
  },
  {
   "cell_type": "code",
   "execution_count": 12,
   "metadata": {},
   "outputs": [
    {
     "data": {
      "text/plain": [
       "\"While the firelight's aglow strange shadows in the flames will grow till things we've never seen will seem familiar\""
      ]
     },
     "execution_count": 12,
     "metadata": {},
     "output_type": "execute_result"
    }
   ],
   "source": [
    "bpe.decode_pieces(pieces)"
   ]
  },
  {
   "cell_type": "code",
   "execution_count": 13,
   "metadata": {},
   "outputs": [
    {
     "data": {
      "text/plain": [
       "\" While the firelight's aglow strange shadows in the flames will grow till things we've never seen will seem familiar\""
      ]
     },
     "execution_count": 13,
     "metadata": {},
     "output_type": "execute_result"
    }
   ],
   "source": [
    "''.join(p.decode('utf-8').replace('▁', ' ') for p in pieces)"
   ]
  },
  {
   "cell_type": "code",
   "execution_count": 14,
   "metadata": {},
   "outputs": [
    {
     "name": "stdout",
     "output_type": "stream",
     "text": [
      "<unk>\t0\r\n",
      "<s>\t0\r\n",
      "</s>\t0\r\n",
      "▁\t-2.70172\r\n",
      "entity\t-2.75739\r\n",
      "▁@\t-2.75798\r\n",
      "▁the\t-3.20654\r\n",
      "s\t-3.45313\r\n",
      ",\t-3.48918\r\n",
      "▁.\t-3.62246\r\n",
      "▁a\t-4.06935\r\n",
      "▁to\t-4.14815\r\n",
      "▁in\t-4.20395\r\n",
      "ed\t-4.20493\r\n",
      "▁\"\t-4.28682\r\n",
      "▁of\t-4.33887\r\n",
      "and\t-4.47272\r\n",
      "ing\t-4.55818\r\n",
      "▁'\t-4.65301\r\n",
      "d\t-4.91634\r\n"
     ]
    }
   ],
   "source": [
    "!more cnn.vocab | head -20"
   ]
  },
  {
   "cell_type": "markdown",
   "metadata": {},
   "source": [
    "# Test loading"
   ]
  },
  {
   "cell_type": "code",
   "execution_count": 15,
   "metadata": {},
   "outputs": [],
   "source": [
    "bpe = BytePairEncoder.from_files('summarizer.model', 'summarizer.vocab')"
   ]
  },
  {
   "cell_type": "code",
   "execution_count": 16,
   "metadata": {},
   "outputs": [
    {
     "data": {
      "text/plain": [
       "[b'\\xe2\\x96\\x81While',\n",
       " b'\\xe2\\x96\\x81the',\n",
       " b'\\xe2\\x96\\x81fire',\n",
       " b'light',\n",
       " b\"'\",\n",
       " b's',\n",
       " b'\\xe2\\x96\\x81ag',\n",
       " b'low',\n",
       " b'\\xe2\\x96\\x81strange',\n",
       " b'\\xe2\\x96\\x81shadows',\n",
       " b'\\xe2\\x96\\x81in',\n",
       " b'\\xe2\\x96\\x81the',\n",
       " b'\\xe2\\x96\\x81flames',\n",
       " b'\\xe2\\x96\\x81will',\n",
       " b'\\xe2\\x96\\x81grow',\n",
       " b'\\xe2\\x96\\x81till',\n",
       " b'\\xe2\\x96\\x81things',\n",
       " b'\\xe2\\x96\\x81we',\n",
       " b\"'\",\n",
       " b've',\n",
       " b'\\xe2\\x96\\x81never',\n",
       " b'\\xe2\\x96\\x81seen',\n",
       " b'\\xe2\\x96\\x81will',\n",
       " b'\\xe2\\x96\\x81seem',\n",
       " b'\\xe2\\x96\\x81familiar']"
      ]
     },
     "execution_count": 16,
     "metadata": {},
     "output_type": "execute_result"
    }
   ],
   "source": [
    "pieces = bpe.encode_as_pieces(sample_text)\n",
    "pieces"
   ]
  },
  {
   "cell_type": "code",
   "execution_count": 17,
   "metadata": {},
   "outputs": [
    {
     "data": {
      "text/plain": [
       "(30000, 'summarizer')"
      ]
     },
     "execution_count": 17,
     "metadata": {},
     "output_type": "execute_result"
    }
   ],
   "source": [
    "bpe.vocab_size, bpe.model_name"
   ]
  },
  {
   "cell_type": "code",
   "execution_count": null,
   "metadata": {},
   "outputs": [],
   "source": []
  }
 ],
 "metadata": {
  "kernelspec": {
   "display_name": "Python 3",
   "language": "python",
   "name": "python3"
  },
  "language_info": {
   "codemirror_mode": {
    "name": "ipython",
    "version": 3
   },
   "file_extension": ".py",
   "mimetype": "text/x-python",
   "name": "python",
   "nbconvert_exporter": "python",
   "pygments_lexer": "ipython3",
   "version": "3.6.2"
  }
 },
 "nbformat": 4,
 "nbformat_minor": 2
}
