{
 "cells": [
  {
   "cell_type": "code",
   "execution_count": 35,
   "metadata": {},
   "outputs": [],
   "source": [
    "import sentencepiece as sp"
   ]
  },
  {
   "cell_type": "code",
   "execution_count": 36,
   "metadata": {},
   "outputs": [],
   "source": [
    "N_TRAIN_SENTENCES = 10000\n",
    "TRAINING_FILE = 'cnn/summary_bpe_train.txt'"
   ]
  },
  {
   "cell_type": "markdown",
   "metadata": {},
   "source": [
    "# make training data"
   ]
  },
  {
   "cell_type": "code",
   "execution_count": 39,
   "metadata": {},
   "outputs": [],
   "source": [
    "import glob\n",
    "import random\n",
    "import tqdm\n",
    "files = glob.glob('cnn/summary/*')"
   ]
  },
  {
   "cell_type": "code",
   "execution_count": 40,
   "metadata": {},
   "outputs": [
    {
     "name": "stderr",
     "output_type": "stream",
     "text": [
      "100%|██████████| 10000/10000 [00:01<00:00, 5519.36it/s]\n"
     ]
    }
   ],
   "source": [
    "with open(TRAINING_FILE, 'w') as f_train:\n",
    "    for _ in tqdm.tqdm(range(N_TRAIN_SENTENCES)):\n",
    "        sample_file = random.choice(files)\n",
    "        with open(sample_file) as f_sample:\n",
    "            sentence = random.choice(f_sample.read().split('\\n'))\n",
    "        f_train.write(f'{sentence}\\n')"
   ]
  },
  {
   "cell_type": "markdown",
   "metadata": {},
   "source": [
    "# Fit Encoder"
   ]
  },
  {
   "cell_type": "code",
   "execution_count": null,
   "metadata": {},
   "outputs": [],
   "source": [
    "import sentencepiece as spm\n",
    "class BytePairEncoder:\n",
    "    def __init__(self, vocab_size, model_name, train_files):\n",
    "        self.vocab_size = vocab_size\n",
    "        self.model_name = model_name\n",
    "        self.model_file = f'{self.model_name}.model'\n",
    "        self.vocab_file = f'{self.model_name}.vocab'\n",
    "        self.processor = self._fit(train_files)\n",
    "\n",
    "    def _fit(self, train_files):\n",
    "        spm.SentencePieceTrainer.Train(' '.join((\n",
    "            f'--input={train_files}',\n",
    "            f'--model_prefix={self.model_name}',\n",
    "            f'--vocab_size={self.vocab_size}'\n",
    "            '--model_type=bpe',\n",
    "        )))\n",
    "        processor = spm.SentencePieceProcessor()\n",
    "        processor.Load(self.model_file)\n",
    "        return processor\n",
    "        \n",
    "    def encode(self, text):\n",
    "        return np.array(self.processor.EncodeAsIds(text))\n",
    "    \n",
    "    def decode(self, ids):\n",
    "        return self.processor.DecodeIds(ids)"
   ]
  },
  {
   "cell_type": "code",
   "execution_count": null,
   "metadata": {},
   "outputs": [],
   "source": [
    "%time\n",
    "BytePairEncoder(vocab_size=8000, model_name='cnn', train_files=TRAINING_FILE)"
   ]
  },
  {
   "cell_type": "code",
   "execution_count": null,
   "metadata": {},
   "outputs": [],
   "source": []
  }
 ],
 "metadata": {
  "kernelspec": {
   "display_name": "Python 3",
   "language": "python",
   "name": "python3"
  },
  "language_info": {
   "codemirror_mode": {
    "name": "ipython",
    "version": 3
   },
   "file_extension": ".py",
   "mimetype": "text/x-python",
   "name": "python",
   "nbconvert_exporter": "python",
   "pygments_lexer": "ipython3",
   "version": "3.6.2"
  }
 },
 "nbformat": 4,
 "nbformat_minor": 2
}
